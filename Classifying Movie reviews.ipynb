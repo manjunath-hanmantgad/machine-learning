{
 "cells": [
  {
   "cell_type": "code",
   "execution_count": 1,
   "metadata": {},
   "outputs": [],
   "source": [
    "# Classifying movie reviews for binary classification\n",
    "# using IMDB dataset"
   ]
  },
  {
   "cell_type": "code",
   "execution_count": 6,
   "metadata": {},
   "outputs": [
    {
     "name": "stdout",
     "output_type": "stream",
     "text": [
      "Downloading data from https://s3.amazonaws.com/text-datasets/imdb.npz\n",
      "17465344/17464789 [==============================] - 108s 6us/step\n"
     ]
    }
   ],
   "source": [
    "# loading the IMDB dataset\n",
    "\n",
    "# dataset is split 50,000 -> 25000 for training and 25000 for test data\n",
    "import keras\n",
    "keras.__version__\n",
    "from keras.datasets import imdb\n",
    "(train_data, train_labels),(test_data , test_labels) = imdb.load_data(num_words = 10000) # num_words means keep only top 10000 followed words occurring frequently in the training data\n"
   ]
  },
  {
   "cell_type": "code",
   "execution_count": 8,
   "metadata": {},
   "outputs": [
    {
     "data": {
      "text/plain": [
       "[1,\n",
       " 14,\n",
       " 22,\n",
       " 16,\n",
       " 43,\n",
       " 530,\n",
       " 973,\n",
       " 1622,\n",
       " 1385,\n",
       " 65,\n",
       " 458,\n",
       " 4468,\n",
       " 66,\n",
       " 3941,\n",
       " 4,\n",
       " 173,\n",
       " 36,\n",
       " 256,\n",
       " 5,\n",
       " 25,\n",
       " 100,\n",
       " 43,\n",
       " 838,\n",
       " 112,\n",
       " 50,\n",
       " 670,\n",
       " 2,\n",
       " 9,\n",
       " 35,\n",
       " 480,\n",
       " 284,\n",
       " 5,\n",
       " 150,\n",
       " 4,\n",
       " 172,\n",
       " 112,\n",
       " 167,\n",
       " 2,\n",
       " 336,\n",
       " 385,\n",
       " 39,\n",
       " 4,\n",
       " 172,\n",
       " 4536,\n",
       " 1111,\n",
       " 17,\n",
       " 546,\n",
       " 38,\n",
       " 13,\n",
       " 447,\n",
       " 4,\n",
       " 192,\n",
       " 50,\n",
       " 16,\n",
       " 6,\n",
       " 147,\n",
       " 2025,\n",
       " 19,\n",
       " 14,\n",
       " 22,\n",
       " 4,\n",
       " 1920,\n",
       " 4613,\n",
       " 469,\n",
       " 4,\n",
       " 22,\n",
       " 71,\n",
       " 87,\n",
       " 12,\n",
       " 16,\n",
       " 43,\n",
       " 530,\n",
       " 38,\n",
       " 76,\n",
       " 15,\n",
       " 13,\n",
       " 1247,\n",
       " 4,\n",
       " 22,\n",
       " 17,\n",
       " 515,\n",
       " 17,\n",
       " 12,\n",
       " 16,\n",
       " 626,\n",
       " 18,\n",
       " 2,\n",
       " 5,\n",
       " 62,\n",
       " 386,\n",
       " 12,\n",
       " 8,\n",
       " 316,\n",
       " 8,\n",
       " 106,\n",
       " 5,\n",
       " 4,\n",
       " 2223,\n",
       " 5244,\n",
       " 16,\n",
       " 480,\n",
       " 66,\n",
       " 3785,\n",
       " 33,\n",
       " 4,\n",
       " 130,\n",
       " 12,\n",
       " 16,\n",
       " 38,\n",
       " 619,\n",
       " 5,\n",
       " 25,\n",
       " 124,\n",
       " 51,\n",
       " 36,\n",
       " 135,\n",
       " 48,\n",
       " 25,\n",
       " 1415,\n",
       " 33,\n",
       " 6,\n",
       " 22,\n",
       " 12,\n",
       " 215,\n",
       " 28,\n",
       " 77,\n",
       " 52,\n",
       " 5,\n",
       " 14,\n",
       " 407,\n",
       " 16,\n",
       " 82,\n",
       " 2,\n",
       " 8,\n",
       " 4,\n",
       " 107,\n",
       " 117,\n",
       " 5952,\n",
       " 15,\n",
       " 256,\n",
       " 4,\n",
       " 2,\n",
       " 7,\n",
       " 3766,\n",
       " 5,\n",
       " 723,\n",
       " 36,\n",
       " 71,\n",
       " 43,\n",
       " 530,\n",
       " 476,\n",
       " 26,\n",
       " 400,\n",
       " 317,\n",
       " 46,\n",
       " 7,\n",
       " 4,\n",
       " 2,\n",
       " 1029,\n",
       " 13,\n",
       " 104,\n",
       " 88,\n",
       " 4,\n",
       " 381,\n",
       " 15,\n",
       " 297,\n",
       " 98,\n",
       " 32,\n",
       " 2071,\n",
       " 56,\n",
       " 26,\n",
       " 141,\n",
       " 6,\n",
       " 194,\n",
       " 7486,\n",
       " 18,\n",
       " 4,\n",
       " 226,\n",
       " 22,\n",
       " 21,\n",
       " 134,\n",
       " 476,\n",
       " 26,\n",
       " 480,\n",
       " 5,\n",
       " 144,\n",
       " 30,\n",
       " 5535,\n",
       " 18,\n",
       " 51,\n",
       " 36,\n",
       " 28,\n",
       " 224,\n",
       " 92,\n",
       " 25,\n",
       " 104,\n",
       " 4,\n",
       " 226,\n",
       " 65,\n",
       " 16,\n",
       " 38,\n",
       " 1334,\n",
       " 88,\n",
       " 12,\n",
       " 16,\n",
       " 283,\n",
       " 5,\n",
       " 16,\n",
       " 4472,\n",
       " 113,\n",
       " 103,\n",
       " 32,\n",
       " 15,\n",
       " 16,\n",
       " 5345,\n",
       " 19,\n",
       " 178,\n",
       " 32]"
      ]
     },
     "execution_count": 8,
     "metadata": {},
     "output_type": "execute_result"
    }
   ],
   "source": [
    "train_data[0] \n",
    "#train_labels[0]"
   ]
  },
  {
   "cell_type": "code",
   "execution_count": 10,
   "metadata": {},
   "outputs": [],
   "source": [
    "#preparing the data \n",
    "\n",
    "# encoding integer sequences into binary matrices.\n",
    "\n",
    "import numpy as np\n",
    "\n",
    "def vectorize_sequences(sequences , dimension = 10000):\n",
    "    results = np.zeros((len(sequences),dimension)) # creates all zero matrix of shape (len(sequences), dimensions)\n",
    "    for i , sequence in enumerate(sequences):\n",
    "        results[i, sequence] = 1 # set specific indices of results[i] equal to 1.\n",
    "    return results\n",
    "\n",
    "x_train = vectorize_sequences(train_data) # vectorized training data \n",
    "x_test = vectorize_sequences(test_data) # vectorize for test data "
   ]
  },
  {
   "cell_type": "code",
   "execution_count": 11,
   "metadata": {},
   "outputs": [
    {
     "data": {
      "text/plain": [
       "array([0., 1., 1., ..., 0., 0., 0.])"
      ]
     },
     "execution_count": 11,
     "metadata": {},
     "output_type": "execute_result"
    }
   ],
   "source": [
    "# how does sample look like ?\n",
    "\n",
    "x_train[0]"
   ]
  },
  {
   "cell_type": "code",
   "execution_count": 12,
   "metadata": {},
   "outputs": [
    {
     "data": {
      "text/plain": [
       "array([0., 1., 1., ..., 0., 0., 0.])"
      ]
     },
     "execution_count": 12,
     "metadata": {},
     "output_type": "execute_result"
    }
   ],
   "source": [
    "x_test[0]"
   ]
  },
  {
   "cell_type": "code",
   "execution_count": 13,
   "metadata": {},
   "outputs": [],
   "source": [
    "# also vectorize the data because it needs to be fed into neural network \n",
    "\n",
    "y_train = np.asarray(train_labels).astype('float32')\n",
    "y_test = np.asarray(test_labels).astype('float32')"
   ]
  },
  {
   "cell_type": "code",
   "execution_count": 14,
   "metadata": {},
   "outputs": [],
   "source": [
    "from keras import models\n",
    "from keras import layers\n",
    "\n",
    "model = models.Sequential()\n",
    "model.add(layers.Dense(16, activation='relu', input_shape=(10000,)))\n",
    "model.add(layers.Dense(16, activation='relu'))\n",
    "model.add(layers.Dense(1, activation='sigmoid'))\n"
   ]
  },
  {
   "cell_type": "code",
   "execution_count": 15,
   "metadata": {},
   "outputs": [],
   "source": [
    "# compiling the model.\n",
    "\n",
    "\n",
    "model.compile(optimizer='rmsprop',\n",
    "              loss='binary_crossentropy',\n",
    "              metrics=['accuracy'])\n",
    "#crossentropy is usually the best choice when you are dealing with models that output probabilities\n",
    "\n",
    "# if want to configure parameters of optimizer or pass a custom LOSS function then this can be done using optimzer argument and loss or metrics argument respectively.\n",
    "\n"
   ]
  },
  {
   "cell_type": "code",
   "execution_count": 16,
   "metadata": {},
   "outputs": [],
   "source": [
    "# if want to configure parameters of optimizer\n",
    "from keras import optimizers\n",
    "\n",
    "model.compile(optimizer=optimizers.RMSprop(lr=0.001),\n",
    "              loss='binary_crossentropy',\n",
    "              metrics=['accuracy'])"
   ]
  },
  {
   "cell_type": "code",
   "execution_count": 17,
   "metadata": {},
   "outputs": [],
   "source": [
    "# now the losses\n",
    "\n",
    "from keras import losses\n",
    "from keras import metrics\n",
    "\n",
    "model.compile(optimizer=optimizers.RMSprop(lr=0.001), # learning rate = 0.001\n",
    "              loss=losses.binary_crossentropy,\n",
    "              metrics=[metrics.binary_accuracy])"
   ]
  },
  {
   "cell_type": "code",
   "execution_count": 18,
   "metadata": {},
   "outputs": [],
   "source": [
    "# validating data \n",
    "\n",
    "# for monitoring purpose to see accuracy of model on data it has not seen yet create validation set and set aside 100000 samples from the \n",
    "# training data \n",
    "\n",
    "x_validation = x_train[:10000]\n",
    "partial_x_train = x_train[10000:]\n",
    "y_validation = y_train[:10000]\n",
    "partial_y_train = y_train[10000:]"
   ]
  },
  {
   "cell_type": "code",
   "execution_count": 20,
   "metadata": {},
   "outputs": [
    {
     "name": "stdout",
     "output_type": "stream",
     "text": [
      "Train on 15000 samples, validate on 10000 samples\n",
      "Epoch 1/30\n",
      "15000/15000 [==============================] - 6s 367us/step - loss: 0.5385 - binary_accuracy: 0.7865 - val_loss: 0.4168 - val_binary_accuracy: 0.8577\n",
      "Epoch 2/30\n",
      "15000/15000 [==============================] - 4s 281us/step - loss: 0.3309 - binary_accuracy: 0.8993 - val_loss: 0.3208 - val_binary_accuracy: 0.8836\n",
      "Epoch 3/30\n",
      "15000/15000 [==============================] - 4s 281us/step - loss: 0.2427 - binary_accuracy: 0.9221 - val_loss: 0.2876 - val_binary_accuracy: 0.8888\n",
      "Epoch 4/30\n",
      "15000/15000 [==============================] - 4s 280us/step - loss: 0.1916 - binary_accuracy: 0.9381 - val_loss: 0.2735 - val_binary_accuracy: 0.8905\n",
      "Epoch 5/30\n",
      "15000/15000 [==============================] - 4s 280us/step - loss: 0.1570 - binary_accuracy: 0.9505 - val_loss: 0.2748 - val_binary_accuracy: 0.8901\n",
      "Epoch 6/30\n",
      "15000/15000 [==============================] - 4s 278us/step - loss: 0.1310 - binary_accuracy: 0.9597 - val_loss: 0.2958 - val_binary_accuracy: 0.8856\n",
      "Epoch 7/30\n",
      "15000/15000 [==============================] - 4s 282us/step - loss: 0.1097 - binary_accuracy: 0.9675 - val_loss: 0.2977 - val_binary_accuracy: 0.88501062 - binary_accuracy: \n",
      "Epoch 8/30\n",
      "15000/15000 [==============================] - 4s 280us/step - loss: 0.0925 - binary_accuracy: 0.9731 - val_loss: 0.3304 - val_binary_accuracy: 0.8808\n",
      "Epoch 9/30\n",
      "15000/15000 [==============================] - 4s 280us/step - loss: 0.0803 - binary_accuracy: 0.9779 - val_loss: 0.3371 - val_binary_accuracy: 0.8821\n",
      "Epoch 10/30\n",
      "15000/15000 [==============================] - 4s 277us/step - loss: 0.0655 - binary_accuracy: 0.9823 - val_loss: 0.3809 - val_binary_accuracy: 0.8716\n",
      "Epoch 11/30\n",
      "15000/15000 [==============================] - 4s 293us/step - loss: 0.0549 - binary_accuracy: 0.9863 - val_loss: 0.4075 - val_binary_accuracy: 0.8692\n",
      "Epoch 12/30\n",
      "15000/15000 [==============================] - 4s 277us/step - loss: 0.0471 - binary_accuracy: 0.9895 - val_loss: 0.4037 - val_binary_accuracy: 0.8781\n",
      "Epoch 13/30\n",
      "15000/15000 [==============================] - 4s 281us/step - loss: 0.0386 - binary_accuracy: 0.9912 - val_loss: 0.4416 - val_binary_accuracy: 0.8753\n",
      "Epoch 14/30\n",
      "15000/15000 [==============================] - 4s 276us/step - loss: 0.0318 - binary_accuracy: 0.9938 - val_loss: 0.4819 - val_binary_accuracy: 0.8718\n",
      "Epoch 15/30\n",
      "15000/15000 [==============================] - 4s 281us/step - loss: 0.0255 - binary_accuracy: 0.9955 - val_loss: 0.5527 - val_binary_accuracy: 0.8596\n",
      "Epoch 16/30\n",
      "15000/15000 [==============================] - 4s 278us/step - loss: 0.0211 - binary_accuracy: 0.9959 - val_loss: 0.5289 - val_binary_accuracy: 0.8706\n",
      "Epoch 17/30\n",
      "15000/15000 [==============================] - 4s 285us/step - loss: 0.0162 - binary_accuracy: 0.9978 - val_loss: 0.5807 - val_binary_accuracy: 0.8632\n",
      "Epoch 18/30\n",
      "15000/15000 [==============================] - 4s 282us/step - loss: 0.0145 - binary_accuracy: 0.9985 - val_loss: 0.6166 - val_binary_accuracy: 0.8627\n",
      "Epoch 19/30\n",
      "15000/15000 [==============================] - 4s 282us/step - loss: 0.0098 - binary_accuracy: 0.9994 - val_loss: 0.6332 - val_binary_accuracy: 0.8650\n",
      "Epoch 20/30\n",
      "15000/15000 [==============================] - 4s 277us/step - loss: 0.0090 - binary_accuracy: 0.9995 - val_loss: 0.6663 - val_binary_accuracy: 0.8660\n",
      "Epoch 21/30\n",
      "15000/15000 [==============================] - 4s 277us/step - loss: 0.0084 - binary_accuracy: 0.9987 - val_loss: 0.7126 - val_binary_accuracy: 0.8648\n",
      "Epoch 22/30\n",
      "15000/15000 [==============================] - 4s 277us/step - loss: 0.0041 - binary_accuracy: 0.9999 - val_loss: 0.7380 - val_binary_accuracy: 0.8642\n",
      "Epoch 23/30\n",
      "15000/15000 [==============================] - 4s 275us/step - loss: 0.0046 - binary_accuracy: 0.9996 - val_loss: 0.7803 - val_binary_accuracy: 0.8618\n",
      "Epoch 24/30\n",
      "15000/15000 [==============================] - 4s 279us/step - loss: 0.0048 - binary_accuracy: 0.9991 - val_loss: 0.8214 - val_binary_accuracy: 0.8621\n",
      "Epoch 25/30\n",
      "15000/15000 [==============================] - 4s 279us/step - loss: 0.0019 - binary_accuracy: 0.9999 - val_loss: 0.8447 - val_binary_accuracy: 0.8614\n",
      "Epoch 26/30\n",
      "15000/15000 [==============================] - 4s 276us/step - loss: 0.0020 - binary_accuracy: 0.9999 - val_loss: 0.8894 - val_binary_accuracy: 0.8627\n",
      "Epoch 27/30\n",
      "15000/15000 [==============================] - 4s 282us/step - loss: 0.0036 - binary_accuracy: 0.9992 - val_loss: 0.9280 - val_binary_accuracy: 0.8628\n",
      "Epoch 28/30\n",
      "15000/15000 [==============================] - 4s 275us/step - loss: 9.0204e-04 - binary_accuracy: 0.9999 - val_loss: 0.9441 - val_binary_accuracy: 0.8627\n",
      "Epoch 29/30\n",
      "15000/15000 [==============================] - 4s 279us/step - loss: 0.0016 - binary_accuracy: 0.9997 - val_loss: 1.1029 - val_binary_accuracy: 0.8461\n",
      "Epoch 30/30\n",
      "15000/15000 [==============================] - 4s 277us/step - loss: 8.3270e-04 - binary_accuracy: 0.9999 - val_loss: 1.0016 - val_binary_accuracy: 0.8598\n"
     ]
    }
   ],
   "source": [
    "# training the model.\n",
    "\n",
    "# training for 30 epochs \n",
    "\n",
    "history = model.fit(partial_x_train,\n",
    "                    partial_y_train,\n",
    "                    epochs=30,\n",
    "                    batch_size=512,\n",
    "                    validation_data=(x_validation, y_validation))"
   ]
  },
  {
   "cell_type": "code",
   "execution_count": 21,
   "metadata": {},
   "outputs": [
    {
     "data": {
      "text/plain": [
       "dict_keys(['val_loss', 'val_binary_accuracy', 'loss', 'binary_accuracy'])"
      ]
     },
     "execution_count": 21,
     "metadata": {},
     "output_type": "execute_result"
    }
   ],
   "source": [
    "# the call to model.fit() returns a History object. This object has a member history, which is a dictionary containing data about everything that happened during training.\n",
    "\n",
    "\n",
    "history_dict = history.history\n",
    "history_dict.keys()"
   ]
  },
  {
   "cell_type": "code",
   "execution_count": 23,
   "metadata": {},
   "outputs": [
    {
     "data": {
      "image/png": "[encoded data removed]",
      "text/plain": [
       "<Figure size 432x288 with 1 Axes>"
      ]
     },
     "metadata": {
      "needs_background": "light"
     },
     "output_type": "display_data"
    }
   ],
   "source": [
    "# use Matplotlib to plot the training and validation loss side by side, as well as the training and validation accuracy\n",
    "\n",
    "import matplotlib.pyplot as plt\n",
    "\n",
    "acc = history.history['binary_accuracy']\n",
    "val_acc = history.history['val_binary_accuracy']\n",
    "loss = history.history['loss']\n",
    "val_loss = history.history['val_loss']\n",
    "\n",
    "epochs = range(1, len(acc) + 1)\n",
    "\n",
    "# \"bo\" is for \"blue dot\"\n",
    "plt.plot(epochs, loss, 'bo', label='Training loss')\n",
    "# b is for \"solid blue line\"\n",
    "plt.plot(epochs, val_loss, 'b', label='Validation loss')\n",
    "plt.title('Training and validation loss')\n",
    "plt.xlabel('Epochs')\n",
    "plt.ylabel('Loss')\n",
    "plt.legend()\n",
    "\n",
    "plt.show()"
   ]
  },
  {
   "cell_type": "code",
   "execution_count": 24,
   "metadata": {},
   "outputs": [
    {
     "data": {
      "image/png": "[encoded data removed]",
      "text/plain": [
       "<Figure size 432x288 with 1 Axes>"
      ]
     },
     "metadata": {
      "needs_background": "light"
     },
     "output_type": "display_data"
    }
   ],
   "source": [
    "# now plotting tarining and validation accuracy\n",
    "\n",
    "plt.clf()   # clear figure\n",
    "acc_values = history_dict['binary_accuracy']\n",
    "val_acc_values = history_dict['val_binary_accuracy']\n",
    "\n",
    "plt.plot(epochs, acc, 'bo', label='Training acc')\n",
    "plt.plot(epochs, val_acc, 'b', label='Validation acc')\n",
    "plt.title('Training and validation accuracy')\n",
    "plt.xlabel('Epochs')\n",
    "plt.ylabel('Loss')\n",
    "plt.legend()\n",
    "\n",
    "plt.show()\n"
   ]
  },
  {
   "cell_type": "code",
   "execution_count": 25,
   "metadata": {},
   "outputs": [
    {
     "name": "stdout",
     "output_type": "stream",
     "text": [
      "Epoch 1/4\n",
      "25000/25000 [==============================] - 5s 211us/step - loss: 0.4424 - accuracy: 0.8212\n",
      "Epoch 2/4\n",
      "25000/25000 [==============================] - 4s 177us/step - loss: 0.2511 - accuracy: 0.9120\n",
      "Epoch 3/4\n",
      "25000/25000 [==============================] - 4s 176us/step - loss: 0.1965 - accuracy: 0.9311\n",
      "Epoch 4/4\n",
      "25000/25000 [==============================] - 4s 175us/step - loss: 0.1657 - accuracy: 0.9404\n",
      "25000/25000 [==============================] - 7s 265us/step\n"
     ]
    }
   ],
   "source": [
    "# main goal : training accuracy increases with every epoch and training loss decreases with every epoch \n",
    "\n",
    "# here after the 4th epoch validation loss and accuracy were at peak and then started to show correctly.\n",
    "\n",
    "# so try to keep epoch = 4\n",
    "\n",
    "model = models.Sequential()\n",
    "model.add(layers.Dense(16, activation='relu', input_shape=(10000,)))\n",
    "model.add(layers.Dense(16, activation='relu'))\n",
    "model.add(layers.Dense(1, activation='sigmoid'))\n",
    "\n",
    "model.compile(optimizer='rmsprop',\n",
    "              loss='binary_crossentropy',\n",
    "              metrics=['accuracy'])\n",
    "\n",
    "model.fit(x_train, y_train, epochs=4, batch_size=512)\n",
    "results = model.evaluate(x_test, y_test)"
   ]
  },
  {
   "cell_type": "code",
   "execution_count": 26,
   "metadata": {},
   "outputs": [],
   "source": [
    "# exactly as predicted ; the accuracy is now ~ 95%\n",
    "\n",
    "# this is exampleof overfitting."
   ]
  },
  {
   "cell_type": "code",
   "execution_count": 27,
   "metadata": {},
   "outputs": [
    {
     "data": {
      "text/plain": [
       "array([[0.19677871],\n",
       "       [0.9995937 ],\n",
       "       [0.8670291 ],\n",
       "       ...,\n",
       "       [0.11011976],\n",
       "       [0.07037246],\n",
       "       [0.73704004]], dtype=float32)"
      ]
     },
     "execution_count": 27,
     "metadata": {},
     "output_type": "execute_result"
    }
   ],
   "source": [
    "# now testing time ! see if the model works correctly.\n",
    "\n",
    "model.predict(x_test)\n",
    "\n",
    "# here can see that for some the probability of is nearly 1 i.e 0.99995937"
   ]
  },
  {
   "cell_type": "code",
   "execution_count": 28,
   "metadata": {},
   "outputs": [
    {
     "name": "stdout",
     "output_type": "stream",
     "text": [
      "Train on 15000 samples, validate on 10000 samples\n",
      "Epoch 1/30\n",
      "15000/15000 [==============================] - 5s 316us/step - loss: 0.5494 - binary_accuracy: 0.7889 - val_loss: 0.4150 - val_binary_accuracy: 0.8632\n",
      "Epoch 2/30\n",
      "15000/15000 [==============================] - 4s 282us/step - loss: 0.3251 - binary_accuracy: 0.9009 - val_loss: 0.3280 - val_binary_accuracy: 0.8732\n",
      "Epoch 3/30\n",
      "15000/15000 [==============================] - 4s 281us/step - loss: 0.2291 - binary_accuracy: 0.9222 - val_loss: 0.2793 - val_binary_accuracy: 0.8899\n",
      "Epoch 4/30\n",
      "15000/15000 [==============================] - 4s 283us/step - loss: 0.1713 - binary_accuracy: 0.9447 - val_loss: 0.3062 - val_binary_accuracy: 0.8782\n",
      "Epoch 5/30\n",
      "15000/15000 [==============================] - 4s 282us/step - loss: 0.1386 - binary_accuracy: 0.9556 - val_loss: 0.2853 - val_binary_accuracy: 0.8872\n",
      "Epoch 6/30\n",
      "15000/15000 [==============================] - 4s 274us/step - loss: 0.1150 - binary_accuracy: 0.9619 - val_loss: 0.3054 - val_binary_accuracy: 0.8833\n",
      "Epoch 7/30\n",
      "15000/15000 [==============================] - 4s 280us/step - loss: 0.0886 - binary_accuracy: 0.9735 - val_loss: 0.3273 - val_binary_accuracy: 0.8810\n",
      "Epoch 8/30\n",
      "15000/15000 [==============================] - 4s 279us/step - loss: 0.0748 - binary_accuracy: 0.9782 - val_loss: 0.3893 - val_binary_accuracy: 0.8711\n",
      "Epoch 9/30\n",
      "15000/15000 [==============================] - 4s 278us/step - loss: 0.0625 - binary_accuracy: 0.9824 - val_loss: 0.3879 - val_binary_accuracy: 0.8788\n",
      "Epoch 10/30\n",
      "15000/15000 [==============================] - 4s 279us/step - loss: 0.0467 - binary_accuracy: 0.9880 - val_loss: 0.4238 - val_binary_accuracy: 0.8758\n",
      "Epoch 11/30\n",
      "15000/15000 [==============================] - 4s 281us/step - loss: 0.0376 - binary_accuracy: 0.9911 - val_loss: 0.4533 - val_binary_accuracy: 0.8740\n",
      "Epoch 12/30\n",
      "15000/15000 [==============================] - 4s 279us/step - loss: 0.0318 - binary_accuracy: 0.9915 - val_loss: 0.4892 - val_binary_accuracy: 0.8727\n",
      "Epoch 13/30\n",
      "15000/15000 [==============================] - 4s 278us/step - loss: 0.0249 - binary_accuracy: 0.9941 - val_loss: 0.5265 - val_binary_accuracy: 0.8720\n",
      "Epoch 14/30\n",
      "15000/15000 [==============================] - 4s 279us/step - loss: 0.0236 - binary_accuracy: 0.9931 - val_loss: 0.5602 - val_binary_accuracy: 0.8687\n",
      "Epoch 15/30\n",
      "15000/15000 [==============================] - 4s 284us/step - loss: 0.0100 - binary_accuracy: 0.9993 - val_loss: 0.6053 - val_binary_accuracy: 0.8705\n",
      "Epoch 16/30\n",
      "15000/15000 [==============================] - 4s 283us/step - loss: 0.0152 - binary_accuracy: 0.9963 - val_loss: 0.6228 - val_binary_accuracy: 0.8703\n",
      "Epoch 17/30\n",
      "15000/15000 [==============================] - 4s 279us/step - loss: 0.0111 - binary_accuracy: 0.9972 - val_loss: 0.6659 - val_binary_accuracy: 0.8679\n",
      "Epoch 18/30\n",
      "15000/15000 [==============================] - 4s 280us/step - loss: 0.0116 - binary_accuracy: 0.9971 - val_loss: 0.7064 - val_binary_accuracy: 0.8695\n",
      "Epoch 19/30\n",
      "15000/15000 [==============================] - 4s 276us/step - loss: 0.0032 - binary_accuracy: 0.9998 - val_loss: 0.7245 - val_binary_accuracy: 0.8679\n",
      "Epoch 20/30\n",
      "15000/15000 [==============================] - 4s 281us/step - loss: 0.0041 - binary_accuracy: 0.9994 - val_loss: 0.9317 - val_binary_accuracy: 0.8504\n",
      "Epoch 21/30\n",
      "15000/15000 [==============================] - 4s 282us/step - loss: 0.0033 - binary_accuracy: 0.9994 - val_loss: 0.8015 - val_binary_accuracy: 0.8656\n",
      "Epoch 22/30\n",
      "15000/15000 [==============================] - 4s 279us/step - loss: 0.0017 - binary_accuracy: 0.9998 - val_loss: 1.0107 - val_binary_accuracy: 0.8497\n",
      "Epoch 23/30\n",
      "15000/15000 [==============================] - 4s 281us/step - loss: 0.0018 - binary_accuracy: 0.9998 - val_loss: 0.8867 - val_binary_accuracy: 0.8646\n",
      "Epoch 24/30\n",
      "15000/15000 [==============================] - 4s 282us/step - loss: 0.0074 - binary_accuracy: 0.9976 - val_loss: 0.9480 - val_binary_accuracy: 0.8649\n",
      "Epoch 25/30\n",
      "15000/15000 [==============================] - 4s 282us/step - loss: 6.7099e-04 - binary_accuracy: 0.9999 - val_loss: 0.9623 - val_binary_accuracy: 0.8653\n",
      "Epoch 26/30\n",
      "15000/15000 [==============================] - 4s 291us/step - loss: 5.8404e-04 - binary_accuracy: 0.9999 - val_loss: 0.9969 - val_binary_accuracy: 0.8644\n",
      "Epoch 27/30\n",
      "15000/15000 [==============================] - 4s 279us/step - loss: 8.1900e-04 - binary_accuracy: 0.9999 - val_loss: 1.3099 - val_binary_accuracy: 0.8404\n",
      "Epoch 28/30\n",
      "15000/15000 [==============================] - 4s 280us/step - loss: 0.0012 - binary_accuracy: 0.9997 - val_loss: 1.0923 - val_binary_accuracy: 0.8636\n",
      "Epoch 29/30\n",
      "15000/15000 [==============================] - 4s 281us/step - loss: 3.0169e-04 - binary_accuracy: 0.9999 - val_loss: 1.1259 - val_binary_accuracy: 0.8626\n",
      "Epoch 30/30\n",
      "15000/15000 [==============================] - 4s 284us/step - loss: 0.0019 - binary_accuracy: 0.9994 - val_loss: 1.3070 - val_binary_accuracy: 0.8536\n"
     ]
    },
    {
     "data": {
      "image/png": "[encoded data removed]",
      "text/plain": [
       "<Figure size 432x288 with 1 Axes>"
      ]
     },
     "metadata": {
      "needs_background": "light"
     },
     "output_type": "display_data"
    }
   ],
   "source": [
    "# EXPERIMENTS \n",
    "\n",
    "#1. We were using 2 hidden layers. Try to use 1 or 3 hidden layers and see how it affects validation and test accuracy.\n",
    "\n",
    "# the tarining loss reduced.\n",
    "\n",
    "# -- proof \n",
    "\n",
    "from keras import models\n",
    "from keras import layers\n",
    "\n",
    "model = models.Sequential()\n",
    "model.add(layers.Dense(16, activation='relu', input_shape=(10000,)))\n",
    "model.add(layers.Dense(16, activation='relu'))\n",
    "model.add(layers.Dense(16, activation='relu'))\n",
    "model.add(layers.Dense(1, activation='sigmoid'))\n",
    "#-------------\n",
    "model.compile(optimizer='rmsprop',\n",
    "              loss='binary_crossentropy',\n",
    "              metrics=['accuracy'])\n",
    "#-----------\n",
    "from keras import optimizers\n",
    "\n",
    "model.compile(optimizer=optimizers.RMSprop(lr=0.001),\n",
    "              loss='binary_crossentropy',\n",
    "              metrics=['accuracy'])\n",
    "\n",
    "#----\n",
    "from keras import losses\n",
    "from keras import metrics\n",
    "\n",
    "model.compile(optimizer=optimizers.RMSprop(lr=0.001), # learning rate = 0.001\n",
    "              loss=losses.binary_crossentropy,\n",
    "              metrics=[metrics.binary_accuracy])\n",
    "\n",
    "#------------\n",
    "\n",
    "x_validation = x_train[:10000]\n",
    "partial_x_train = x_train[10000:]\n",
    "y_validation = y_train[:10000]\n",
    "partial_y_train = y_train[10000:]\n",
    "\n",
    "#--------------\n",
    "\n",
    "history = model.fit(partial_x_train,\n",
    "                    partial_y_train,\n",
    "                    epochs=30,\n",
    "                    batch_size=512,\n",
    "                    validation_data=(x_validation, y_validation))\n",
    "\n",
    "#--------------\n",
    "\n",
    "import matplotlib.pyplot as plt\n",
    "\n",
    "acc = history.history['binary_accuracy']\n",
    "val_acc = history.history['val_binary_accuracy']\n",
    "loss = history.history['loss']\n",
    "val_loss = history.history['val_loss']\n",
    "\n",
    "epochs = range(1, len(acc) + 1)\n",
    "\n",
    "# \"bo\" is for \"blue dot\"\n",
    "plt.plot(epochs, loss, 'bo', label='Training loss')\n",
    "# b is for \"solid blue line\"\n",
    "plt.plot(epochs, val_loss, 'b', label='Validation loss')\n",
    "plt.title('Training and validation loss')\n",
    "plt.xlabel('Epochs')\n",
    "plt.ylabel('Loss')\n",
    "plt.legend()\n",
    "\n",
    "plt.show()"
   ]
  },
  {
   "cell_type": "code",
   "execution_count": 29,
   "metadata": {},
   "outputs": [
    {
     "data": {
      "image/png": "[encoded data removed]",
      "text/plain": [
       "<Figure size 432x288 with 1 Axes>"
      ]
     },
     "metadata": {
      "needs_background": "light"
     },
     "output_type": "display_data"
    }
   ],
   "source": [
    "# now plotting tarining and validation accuracy\n",
    "\n",
    "plt.clf()   # clear figure\n",
    "acc_values = history_dict['binary_accuracy']\n",
    "val_acc_values = history_dict['val_binary_accuracy']\n",
    "\n",
    "plt.plot(epochs, acc, 'bo', label='Training acc')\n",
    "plt.plot(epochs, val_acc, 'b', label='Validation acc')\n",
    "plt.title('Training and validation accuracy')\n",
    "plt.xlabel('Epochs')\n",
    "plt.ylabel('Loss')\n",
    "plt.legend()\n",
    "\n",
    "plt.show()"
   ]
  },
  {
   "cell_type": "code",
   "execution_count": 30,
   "metadata": {},
   "outputs": [
    {
     "name": "stdout",
     "output_type": "stream",
     "text": [
      "Train on 15000 samples, validate on 10000 samples\n",
      "Epoch 1/20\n",
      "15000/15000 [==============================] - 5s 329us/step - loss: 0.5181 - binary_accuracy: 0.7556 - val_loss: 0.3600 - val_binary_accuracy: 0.8688\n",
      "Epoch 2/20\n",
      "15000/15000 [==============================] - 4s 292us/step - loss: 0.2793 - binary_accuracy: 0.9003 - val_loss: 0.3225 - val_binary_accuracy: 0.8685\n",
      "Epoch 3/20\n",
      "15000/15000 [==============================] - 4s 291us/step - loss: 0.1976 - binary_accuracy: 0.9268 - val_loss: 0.2774 - val_binary_accuracy: 0.8906\n",
      "Epoch 4/20\n",
      "15000/15000 [==============================] - 4s 289us/step - loss: 0.1437 - binary_accuracy: 0.9509 - val_loss: 0.4016 - val_binary_accuracy: 0.8520\n",
      "Epoch 5/20\n",
      "15000/15000 [==============================] - 4s 294us/step - loss: 0.1105 - binary_accuracy: 0.9648 - val_loss: 0.3216 - val_binary_accuracy: 0.8806\n",
      "Epoch 6/20\n",
      "15000/15000 [==============================] - 5s 314us/step - loss: 0.0852 - binary_accuracy: 0.9743 - val_loss: 0.3464 - val_binary_accuracy: 0.8812\n",
      "Epoch 7/20\n",
      "15000/15000 [==============================] - 4s 290us/step - loss: 0.0604 - binary_accuracy: 0.9825 - val_loss: 0.3789 - val_binary_accuracy: 0.8798\n",
      "Epoch 8/20\n",
      "15000/15000 [==============================] - 5s 319us/step - loss: 0.0565 - binary_accuracy: 0.9831 - val_loss: 0.4285 - val_binary_accuracy: 0.8755\n",
      "Epoch 9/20\n",
      "15000/15000 [==============================] - 4s 297us/step - loss: 0.0372 - binary_accuracy: 0.9889 - val_loss: 0.4430 - val_binary_accuracy: 0.8777\n",
      "Epoch 10/20\n",
      "15000/15000 [==============================] - 5s 333us/step - loss: 0.0113 - binary_accuracy: 0.9988 - val_loss: 0.7166 - val_binary_accuracy: 0.8467\n",
      "Epoch 11/20\n",
      "15000/15000 [==============================] - 5s 337us/step - loss: 0.0333 - binary_accuracy: 0.9897 - val_loss: 0.5259 - val_binary_accuracy: 0.8760\n",
      "Epoch 12/20\n",
      "15000/15000 [==============================] - 4s 296us/step - loss: 0.0045 - binary_accuracy: 0.9996 - val_loss: 0.5960 - val_binary_accuracy: 0.8745\n",
      "Epoch 13/20\n",
      "15000/15000 [==============================] - 4s 293us/step - loss: 0.0392 - binary_accuracy: 0.9893 - val_loss: 0.6030 - val_binary_accuracy: 0.8748\n",
      "Epoch 14/20\n",
      "15000/15000 [==============================] - 4s 290us/step - loss: 0.0017 - binary_accuracy: 0.9999 - val_loss: 0.6442 - val_binary_accuracy: 0.8743\n",
      "Epoch 15/20\n",
      "15000/15000 [==============================] - 5s 330us/step - loss: 0.0011 - binary_accuracy: 0.9999 - val_loss: 0.7199 - val_binary_accuracy: 0.8734\n",
      "Epoch 16/20\n",
      "15000/15000 [==============================] - 4s 298us/step - loss: 0.0387 - binary_accuracy: 0.9915 - val_loss: 0.7736 - val_binary_accuracy: 0.8725\n",
      "Epoch 17/20\n",
      "15000/15000 [==============================] - 4s 299us/step - loss: 3.4038e-04 - binary_accuracy: 1.0000 - val_loss: 0.7931 - val_binary_accuracy: 0.8727\n",
      "Epoch 18/20\n",
      "15000/15000 [==============================] - 4s 293us/step - loss: 2.5166e-04 - binary_accuracy: 1.0000 - val_loss: 0.8288 - val_binary_accuracy: 0.8716\n",
      "Epoch 19/20\n",
      "15000/15000 [==============================] - 4s 295us/step - loss: 1.7391e-04 - binary_accuracy: 1.0000 - val_loss: 0.8868 - val_binary_accuracy: 0.8713\n",
      "Epoch 20/20\n",
      "15000/15000 [==============================] - 5s 311us/step - loss: 9.2073e-05 - binary_accuracy: 1.0000 - val_loss: 0.9949 - val_binary_accuracy: 0.8695\n"
     ]
    },
    {
     "data": {
      "image/png": "[encoded data removed]",
      "text/plain": [
       "<Figure size 432x288 with 1 Axes>"
      ]
     },
     "metadata": {
      "needs_background": "light"
     },
     "output_type": "display_data"
    }
   ],
   "source": [
    "# EXPERIMENT 2 \n",
    "\n",
    "# Try to use layers with more hidden units or less hidden units: 32 units, 64 units.\n",
    "\n",
    "# result : accuracy increased !\n",
    "\n",
    "# --- proof \n",
    "    \n",
    "from keras import models\n",
    "from keras import layers\n",
    "\n",
    "model = models.Sequential()\n",
    "model.add(layers.Dense(32, activation='relu', input_shape=(10000,)))\n",
    "model.add(layers.Dense(32, activation='relu'))\n",
    "model.add(layers.Dense(32, activation='relu'))\n",
    "model.add(layers.Dense(1, activation='sigmoid'))\n",
    "#-------------\n",
    "model.compile(optimizer='rmsprop',\n",
    "              loss='binary_crossentropy',\n",
    "              metrics=['accuracy'])\n",
    "#-----------\n",
    "from keras import optimizers\n",
    "\n",
    "model.compile(optimizer=optimizers.RMSprop(lr=0.001),\n",
    "              loss='binary_crossentropy',\n",
    "              metrics=['accuracy'])\n",
    "\n",
    "#----\n",
    "from keras import losses\n",
    "from keras import metrics\n",
    "\n",
    "model.compile(optimizer=optimizers.RMSprop(lr=0.001), # learning rate = 0.001\n",
    "              loss=losses.binary_crossentropy,\n",
    "              metrics=[metrics.binary_accuracy])\n",
    "\n",
    "#------------\n",
    "\n",
    "x_validation = x_train[:10000]\n",
    "partial_x_train = x_train[10000:]\n",
    "y_validation = y_train[:10000]\n",
    "partial_y_train = y_train[10000:]\n",
    "\n",
    "#--------------\n",
    "\n",
    "history = model.fit(partial_x_train,\n",
    "                    partial_y_train,\n",
    "                    epochs=20,\n",
    "                    batch_size=512,\n",
    "                    validation_data=(x_validation, y_validation))\n",
    "\n",
    "#--------------\n",
    "\n",
    "import matplotlib.pyplot as plt\n",
    "\n",
    "acc = history.history['binary_accuracy']\n",
    "val_acc = history.history['val_binary_accuracy']\n",
    "loss = history.history['loss']\n",
    "val_loss = history.history['val_loss']\n",
    "\n",
    "epochs = range(1, len(acc) + 1)\n",
    "\n",
    "# \"bo\" is for \"blue dot\"\n",
    "plt.plot(epochs, loss, 'bo', label='Training loss')\n",
    "# b is for \"solid blue line\"\n",
    "plt.plot(epochs, val_loss, 'b', label='Validation loss')\n",
    "plt.title('Training and validation loss')\n",
    "plt.xlabel('Epochs')\n",
    "plt.ylabel('Loss')\n",
    "plt.legend()\n",
    "\n",
    "plt.show()"
   ]
  },
  {
   "cell_type": "code",
   "execution_count": 31,
   "metadata": {},
   "outputs": [
    {
     "name": "stdout",
     "output_type": "stream",
     "text": [
      "Train on 15000 samples, validate on 10000 samples\n",
      "Epoch 1/20\n",
      "15000/15000 [==============================] - 5s 317us/step - loss: 0.4675 - binary_accuracy: 0.7840 - val_loss: 0.3063 - val_binary_accuracy: 0.8792\n",
      "Epoch 2/20\n",
      "15000/15000 [==============================] - 4s 291us/step - loss: 0.2357 - binary_accuracy: 0.9099 - val_loss: 0.3143 - val_binary_accuracy: 0.8736\n",
      "Epoch 3/20\n",
      "15000/15000 [==============================] - 4s 291us/step - loss: 0.1802 - binary_accuracy: 0.9296 - val_loss: 0.3142 - val_binary_accuracy: 0.8755\n",
      "Epoch 4/20\n",
      "15000/15000 [==============================] - 4s 294us/step - loss: 0.1335 - binary_accuracy: 0.9513 - val_loss: 0.3570 - val_binary_accuracy: 0.8735\n",
      "Epoch 5/20\n",
      "15000/15000 [==============================] - 4s 299us/step - loss: 0.1013 - binary_accuracy: 0.9637 - val_loss: 0.3659 - val_binary_accuracy: 0.8768\n",
      "Epoch 6/20\n",
      "15000/15000 [==============================] - 4s 293us/step - loss: 0.0925 - binary_accuracy: 0.9680 - val_loss: 0.4227 - val_binary_accuracy: 0.8709\n",
      "Epoch 7/20\n",
      "15000/15000 [==============================] - 4s 294us/step - loss: 0.0722 - binary_accuracy: 0.9767 - val_loss: 0.4330 - val_binary_accuracy: 0.8717\n",
      "Epoch 8/20\n",
      "15000/15000 [==============================] - 4s 295us/step - loss: 0.0600 - binary_accuracy: 0.9813 - val_loss: 0.4668 - val_binary_accuracy: 0.8696\n",
      "Epoch 9/20\n",
      "15000/15000 [==============================] - 4s 292us/step - loss: 0.0591 - binary_accuracy: 0.9831 - val_loss: 0.4987 - val_binary_accuracy: 0.8690\n",
      "Epoch 10/20\n",
      "15000/15000 [==============================] - 4s 288us/step - loss: 0.0539 - binary_accuracy: 0.9845 - val_loss: 0.5220 - val_binary_accuracy: 0.8651\n",
      "Epoch 11/20\n",
      "15000/15000 [==============================] - 4s 294us/step - loss: 0.0130 - binary_accuracy: 0.9980 - val_loss: 0.6358 - val_binary_accuracy: 0.8567\n",
      "Epoch 12/20\n",
      "15000/15000 [==============================] - 5s 320us/step - loss: 0.0604 - binary_accuracy: 0.9873 - val_loss: 0.6190 - val_binary_accuracy: 0.8666\n",
      "Epoch 13/20\n",
      "15000/15000 [==============================] - 4s 292us/step - loss: 0.0052 - binary_accuracy: 0.9989 - val_loss: 0.7683 - val_binary_accuracy: 0.8473\n",
      "Epoch 14/20\n",
      "15000/15000 [==============================] - 5s 302us/step - loss: 0.0381 - binary_accuracy: 0.9885 - val_loss: 0.6771 - val_binary_accuracy: 0.8640\n",
      "Epoch 15/20\n",
      "15000/15000 [==============================] - 5s 301us/step - loss: 0.0018 - binary_accuracy: 0.9999 - val_loss: 0.7615 - val_binary_accuracy: 0.8608\n",
      "Epoch 16/20\n",
      "15000/15000 [==============================] - 4s 293us/step - loss: 0.0469 - binary_accuracy: 0.9918 - val_loss: 0.7912 - val_binary_accuracy: 0.8619\n",
      "Epoch 17/20\n",
      "15000/15000 [==============================] - 4s 292us/step - loss: 0.0010 - binary_accuracy: 0.9999 - val_loss: 0.8248 - val_binary_accuracy: 0.8608\n",
      "Epoch 18/20\n",
      "15000/15000 [==============================] - 4s 289us/step - loss: 3.3417e-04 - binary_accuracy: 1.0000 - val_loss: 0.8635 - val_binary_accuracy: 0.8605\n",
      "Epoch 19/20\n",
      "15000/15000 [==============================] - 4s 290us/step - loss: 2.0459e-04 - binary_accuracy: 1.0000 - val_loss: 0.9261 - val_binary_accuracy: 0.8601\n",
      "Epoch 20/20\n",
      "15000/15000 [==============================] - 4s 294us/step - loss: 9.8204e-05 - binary_accuracy: 1.0000 - val_loss: 1.0225 - val_binary_accuracy: 0.8610\n"
     ]
    },
    {
     "data": {
      "image/png": "[encoded data removed]",
      "text/plain": [
       "<Figure size 432x288 with 1 Axes>"
      ]
     },
     "metadata": {
      "needs_background": "light"
     },
     "output_type": "display_data"
    }
   ],
   "source": [
    "# EXPERIMENT 3 \n",
    "\n",
    "# Try to use the tanh activation (an activation that was popular in the early days of neural networks) instead of relu.\n",
    "\n",
    "from keras import models\n",
    "from keras import layers\n",
    "\n",
    "model = models.Sequential()\n",
    "model.add(layers.Dense(32, activation='tanh', input_shape=(10000,)))\n",
    "model.add(layers.Dense(32, activation='tanh'))\n",
    "model.add(layers.Dense(32, activation='tanh'))\n",
    "model.add(layers.Dense(1, activation='sigmoid'))\n",
    "#-------------\n",
    "model.compile(optimizer='rmsprop',\n",
    "              loss='binary_crossentropy',\n",
    "              metrics=['accuracy'])\n",
    "#-----------\n",
    "from keras import optimizers\n",
    "\n",
    "model.compile(optimizer=optimizers.RMSprop(lr=0.001),\n",
    "              loss='binary_crossentropy',\n",
    "              metrics=['accuracy'])\n",
    "\n",
    "#----\n",
    "from keras import losses\n",
    "from keras import metrics\n",
    "\n",
    "model.compile(optimizer=optimizers.RMSprop(lr=0.001), # learning rate = 0.001\n",
    "              loss=losses.binary_crossentropy,\n",
    "              metrics=[metrics.binary_accuracy])\n",
    "\n",
    "#------------\n",
    "\n",
    "x_validation = x_train[:10000]\n",
    "partial_x_train = x_train[10000:]\n",
    "y_validation = y_train[:10000]\n",
    "partial_y_train = y_train[10000:]\n",
    "\n",
    "#--------------\n",
    "\n",
    "history = model.fit(partial_x_train,\n",
    "                    partial_y_train,\n",
    "                    epochs=20,\n",
    "                    batch_size=512,\n",
    "                    validation_data=(x_validation, y_validation))\n",
    "\n",
    "#--------------\n",
    "\n",
    "import matplotlib.pyplot as plt\n",
    "\n",
    "acc = history.history['binary_accuracy']\n",
    "val_acc = history.history['val_binary_accuracy']\n",
    "loss = history.history['loss']\n",
    "val_loss = history.history['val_loss']\n",
    "\n",
    "epochs = range(1, len(acc) + 1)\n",
    "\n",
    "# \"bo\" is for \"blue dot\"\n",
    "plt.plot(epochs, loss, 'bo', label='Training loss')\n",
    "# b is for \"solid blue line\"\n",
    "plt.plot(epochs, val_loss, 'b', label='Validation loss')\n",
    "plt.title('Training and validation loss')\n",
    "plt.xlabel('Epochs')\n",
    "plt.ylabel('Loss')\n",
    "plt.legend()\n",
    "\n",
    "plt.show()"
   ]
  },
  {
   "cell_type": "code",
   "execution_count": 32,
   "metadata": {},
   "outputs": [
    {
     "data": {
      "text/plain": [
       "array([[8.7962311e-05],\n",
       "       [9.9997151e-01],\n",
       "       [9.9698895e-01],\n",
       "       ...,\n",
       "       [6.4820633e-05],\n",
       "       [1.2054952e-04],\n",
       "       [9.9965727e-01]], dtype=float32)"
      ]
     },
     "execution_count": 32,
     "metadata": {},
     "output_type": "execute_result"
    }
   ],
   "source": [
    "# now predicting it \n",
    "\n",
    "model.predict(x_test)\n",
    "\n",
    "# so the values are going beyond 1 i.e max is 9.99e"
   ]
  },
  {
   "cell_type": "code",
   "execution_count": null,
   "metadata": {},
   "outputs": [],
   "source": []
  }
 ],
 "metadata": {
  "kernelspec": {
   "display_name": "Python 3",
   "language": "python",
   "name": "python3"
  },
  "language_info": {
   "codemirror_mode": {
    "name": "ipython",
    "version": 3
   },
   "file_extension": ".py",
   "mimetype": "text/x-python",
   "name": "python",
   "nbconvert_exporter": "python",
   "pygments_lexer": "ipython3",
   "version": "3.8.3"
  }
 },
 "nbformat": 4,
 "nbformat_minor": 4
}
