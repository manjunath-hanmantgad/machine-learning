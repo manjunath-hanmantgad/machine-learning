{
 "cells": [
  {
   "cell_type": "markdown",
   "id": "01c1ce34",
   "metadata": {},
   "source": [
    "Plot functional relationship \n",
    "a = xb"
   ]
  },
  {
   "cell_type": "markdown",
   "id": "45ff6feb",
   "metadata": {},
   "source": [
    "Plot relationship between raw data points\n",
    "u = [2,4,6,8]\n",
    "v = [1,3,5,7]"
   ]
  },
  {
   "cell_type": "markdown",
   "id": "3a48014b",
   "metadata": {},
   "source": [
    "## Matplotlib Basics"
   ]
  },
  {
   "cell_type": "markdown",
   "id": "9f5bb6d5",
   "metadata": {},
   "source": [
    "use through function plot calls\n",
    "plt.plot()"
   ]
  },
  {
   "cell_type": "code",
   "execution_count": 1,
   "id": "f17b43fe",
   "metadata": {},
   "outputs": [],
   "source": [
    "# in .py scripts add plt.show() command\n",
    "# dont use if using jupyter notebook"
   ]
  },
  {
   "cell_type": "code",
   "execution_count": 2,
   "id": "e5ccd084",
   "metadata": {},
   "outputs": [],
   "source": [
    "# import matplotlib with pyplot\n",
    "import matplotlib.pyplot as plt"
   ]
  },
  {
   "cell_type": "code",
   "execution_count": 3,
   "id": "fcafc2e0",
   "metadata": {},
   "outputs": [],
   "source": [
    "# if images dont show up use: %matplotlib inline\n",
    "import numpy as np"
   ]
  },
  {
   "cell_type": "code",
   "execution_count": 5,
   "id": "ec63781a",
   "metadata": {},
   "outputs": [],
   "source": [
    "x = np.arange(0,10)"
   ]
  },
  {
   "cell_type": "code",
   "execution_count": 6,
   "id": "7882f60a",
   "metadata": {},
   "outputs": [],
   "source": [
    "y = 2*x"
   ]
  },
  {
   "cell_type": "code",
   "execution_count": 7,
   "id": "e2e72a31",
   "metadata": {},
   "outputs": [
    {
     "data": {
      "text/plain": [
       "array([0, 1, 2, 3, 4, 5, 6, 7, 8, 9])"
      ]
     },
     "execution_count": 7,
     "metadata": {},
     "output_type": "execute_result"
    }
   ],
   "source": [
    "# display x\n",
    "x"
   ]
  },
  {
   "cell_type": "code",
   "execution_count": 8,
   "id": "8c3001a2",
   "metadata": {},
   "outputs": [
    {
     "data": {
      "text/plain": [
       "array([ 0,  2,  4,  6,  8, 10, 12, 14, 16, 18])"
      ]
     },
     "execution_count": 8,
     "metadata": {},
     "output_type": "execute_result"
    }
   ],
   "source": [
    "#display y\n",
    "y"
   ]
  },
  {
   "cell_type": "code",
   "execution_count": 11,
   "id": "b8e5580a",
   "metadata": {},
   "outputs": [
    {
     "data": {
      "text/plain": [
       "[<matplotlib.lines.Line2D at 0x2b3f30efac8>]"
      ]
     },
     "execution_count": 11,
     "metadata": {},
     "output_type": "execute_result"
    },
    {
     "data": {
      "image/png": "[encoded data removed]",
      "text/plain": [
       "<Figure size 432x288 with 1 Axes>"
      ]
     },
     "metadata": {
      "needs_background": "light"
     },
     "output_type": "display_data"
    }
   ],
   "source": [
    "# now plot X versus Y\n",
    "plt.plot(x,y)\n",
    "# this will create a linear plot"
   ]
  },
  {
   "cell_type": "code",
   "execution_count": null,
   "id": "9cc19405",
   "metadata": {},
   "outputs": [],
   "source": []
  }
 ],
 "metadata": {
  "kernelspec": {
   "display_name": "machinelearning",
   "language": "python",
   "name": "machinelearning"
  },
  "language_info": {
   "codemirror_mode": {
    "name": "ipython",
    "version": 3
   },
   "file_extension": ".py",
   "mimetype": "text/x-python",
   "name": "python",
   "nbconvert_exporter": "python",
   "pygments_lexer": "ipython3",
   "version": "3.7.10"
  }
 },
 "nbformat": 4,
 "nbformat_minor": 5
}
