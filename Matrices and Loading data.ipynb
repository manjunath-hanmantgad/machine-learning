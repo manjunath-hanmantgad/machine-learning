{
 "cells": [
  {
   "cell_type": "code",
   "execution_count": 4,
   "metadata": {},
   "outputs": [],
   "source": [
    "# find eigenvalues and eigenvectors\n",
    "\n",
    "# eigenvector is \"the direction that doesn't change direction\" !\n",
    "# Last 2 dimensions of the array must be square\n",
    "\n",
    "# https://www.mathsisfun.com/algebra/eigenvalue.html\n",
    "\n",
    "# Av = Lv ( L = lambda)  eigen formula.\n",
    "\n",
    "import numpy as np\n",
    "matrix = ([[1,-1,3],\n",
    "          [1,1,6],\n",
    "          [3,8,9]])\n",
    "\n",
    "eigenvalues, eigenvectors = np.linalg.eig(matrix)"
   ]
  },
  {
   "cell_type": "code",
   "execution_count": 5,
   "metadata": {},
   "outputs": [
    {
     "data": {
      "text/plain": [
       "array([13.55075847,  0.74003145, -3.29078992])"
      ]
     },
     "execution_count": 5,
     "metadata": {},
     "output_type": "execute_result"
    }
   ],
   "source": [
    "eigenvalues"
   ]
  },
  {
   "cell_type": "code",
   "execution_count": 6,
   "metadata": {},
   "outputs": [
    {
     "data": {
      "text/plain": [
       "array([[-0.17622017, -0.96677403, -0.53373322],\n",
       "       [-0.435951  ,  0.2053623 , -0.64324848],\n",
       "       [-0.88254925,  0.15223105,  0.54896288]])"
      ]
     },
     "execution_count": 6,
     "metadata": {},
     "output_type": "execute_result"
    }
   ],
   "source": [
    "eigenvectors"
   ]
  },
  {
   "cell_type": "code",
   "execution_count": 8,
   "metadata": {},
   "outputs": [
    {
     "data": {
      "text/plain": [
       "50"
      ]
     },
     "execution_count": 8,
     "metadata": {},
     "output_type": "execute_result"
    }
   ],
   "source": [
    "# dot product of 2 vectors\n",
    "\n",
    "import numpy as np\n",
    "vec_a = np.array([1,2,3])\n",
    "vec_b = np.array([7,8,9])\n",
    "\n",
    "np.dot(vec_a , vec_b)"
   ]
  },
  {
   "cell_type": "code",
   "execution_count": 11,
   "metadata": {},
   "outputs": [
    {
     "data": {
      "text/plain": [
       "array([[-1.66666667,  1.33333333],\n",
       "       [ 0.66666667, -0.33333333]])"
      ]
     },
     "execution_count": 11,
     "metadata": {},
     "output_type": "execute_result"
    }
   ],
   "source": [
    "# inverting matrix\n",
    "import numpy as np\n",
    "matrix = np.array([[1,4],\n",
    "                 [2,5]])\n",
    "\n",
    "np.linalg.inv(matrix)"
   ]
  },
  {
   "cell_type": "code",
   "execution_count": 12,
   "metadata": {},
   "outputs": [],
   "source": [
    "# generating random values.\n",
    "\n",
    "import numpy as np\n",
    "np.random.seed(0)"
   ]
  },
  {
   "cell_type": "code",
   "execution_count": 13,
   "metadata": {},
   "outputs": [
    {
     "data": {
      "text/plain": [
       "array([0.5488135 , 0.71518937, 0.60276338])"
      ]
     },
     "execution_count": 13,
     "metadata": {},
     "output_type": "execute_result"
    }
   ],
   "source": [
    "np.random.random(3)"
   ]
  },
  {
   "cell_type": "code",
   "execution_count": 14,
   "metadata": {},
   "outputs": [
    {
     "data": {
      "text/plain": [
       "array([0.54488318, 0.4236548 , 0.64589411, 0.43758721, 0.891773  ,\n",
       "       0.96366276, 0.38344152, 0.79172504, 0.52889492, 0.56804456,\n",
       "       0.92559664, 0.07103606, 0.0871293 , 0.0202184 , 0.83261985,\n",
       "       0.77815675, 0.87001215, 0.97861834, 0.79915856, 0.46147936,\n",
       "       0.78052918, 0.11827443, 0.63992102, 0.14335329, 0.94466892,\n",
       "       0.52184832, 0.41466194, 0.26455561, 0.77423369, 0.45615033,\n",
       "       0.56843395, 0.0187898 , 0.6176355 , 0.61209572, 0.616934  ,\n",
       "       0.94374808, 0.6818203 , 0.3595079 , 0.43703195, 0.6976312 ,\n",
       "       0.06022547, 0.66676672])"
      ]
     },
     "execution_count": 14,
     "metadata": {},
     "output_type": "execute_result"
    }
   ],
   "source": [
    "np.random.random(42)"
   ]
  },
  {
   "cell_type": "code",
   "execution_count": 15,
   "metadata": {},
   "outputs": [],
   "source": [
    "np.random.seed(42)"
   ]
  },
  {
   "cell_type": "code",
   "execution_count": 18,
   "metadata": {},
   "outputs": [
    {
     "data": {
      "text/plain": [
       "array([0.37454012, 0.95071431, 0.73199394, 0.59865848, 0.15601864,\n",
       "       0.15599452, 0.05808361, 0.86617615, 0.60111501, 0.70807258,\n",
       "       0.02058449, 0.96990985, 0.83244264, 0.21233911, 0.18182497,\n",
       "       0.18340451, 0.30424224, 0.52475643, 0.43194502, 0.29122914,\n",
       "       0.61185289, 0.13949386, 0.29214465, 0.36636184, 0.45606998,\n",
       "       0.78517596, 0.19967378, 0.51423444, 0.59241457, 0.04645041,\n",
       "       0.60754485, 0.17052412, 0.06505159, 0.94888554, 0.96563203,\n",
       "       0.80839735, 0.30461377, 0.09767211, 0.68423303, 0.44015249,\n",
       "       0.12203823, 0.49517691])"
      ]
     },
     "execution_count": 18,
     "metadata": {},
     "output_type": "execute_result"
    }
   ],
   "source": [
    "np.random.seed(42)\n",
    "np.random.random(42)"
   ]
  },
  {
   "cell_type": "code",
   "execution_count": 20,
   "metadata": {},
   "outputs": [
    {
     "data": {
      "text/plain": [
       "array([0.37454012, 0.95071431, 0.73199394, 0.59865848, 0.15601864,\n",
       "       0.15599452, 0.05808361, 0.86617615, 0.60111501, 0.70807258,\n",
       "       0.02058449, 0.96990985, 0.83244264, 0.21233911, 0.18182497,\n",
       "       0.18340451, 0.30424224, 0.52475643, 0.43194502, 0.29122914,\n",
       "       0.61185289, 0.13949386, 0.29214465, 0.36636184, 0.45606998,\n",
       "       0.78517596, 0.19967378, 0.51423444, 0.59241457, 0.04645041,\n",
       "       0.60754485, 0.17052412, 0.06505159, 0.94888554, 0.96563203,\n",
       "       0.80839735, 0.30461377, 0.09767211, 0.68423303, 0.44015249,\n",
       "       0.12203823, 0.49517691])"
      ]
     },
     "execution_count": 20,
     "metadata": {},
     "output_type": "execute_result"
    }
   ],
   "source": [
    "np.random.seed(42)\n",
    "np.random.random(42)\n",
    "\n",
    "\n",
    "# line #18 and #20 generate the same set of int as I have seeded it using np.random.seed(integer)"
   ]
  },
  {
   "cell_type": "code",
   "execution_count": 21,
   "metadata": {},
   "outputs": [],
   "source": [
    "# Loading data"
   ]
  },
  {
   "cell_type": "code",
   "execution_count": 24,
   "metadata": {},
   "outputs": [
    {
     "data": {
      "text/plain": [
       "array([ 0.,  0.,  0.,  4., 15., 12.,  0.,  0.,  0.,  0.,  3., 16., 15.,\n",
       "       14.,  0.,  0.,  0.,  0.,  8., 13.,  8., 16.,  0.,  0.,  0.,  0.,\n",
       "        1.,  6., 15., 11.,  0.,  0.,  0.,  1.,  8., 13., 15.,  1.,  0.,\n",
       "        0.,  0.,  9., 16., 16.,  5.,  0.,  0.,  0.,  0.,  3., 13., 16.,\n",
       "       16., 11.,  5.,  0.,  0.,  0.,  0.,  3., 11., 16.,  9.,  0.])"
      ]
     },
     "execution_count": 24,
     "metadata": {},
     "output_type": "execute_result"
    }
   ],
   "source": [
    "# loading preexisting dataset or sample datasetor toy datasets\n",
    "# using sk learn\n",
    "\n",
    "from sklearn import datasets # load sklearn datasets\n",
    "\n",
    "digits = datasets.load_digits() # load digits dataset\n",
    "\n",
    "features = digits.data # create input feature matrix\n",
    "\n",
    "target = digits.target # create target vector\n",
    "\n",
    "features[0] # view first observation\n",
    "\n",
    "features[1]\n",
    "\n",
    "features[2]"
   ]
  },
  {
   "cell_type": "code",
   "execution_count": 25,
   "metadata": {},
   "outputs": [],
   "source": [
    "# create dataset using simulated data"
   ]
  },
  {
   "cell_type": "code",
   "execution_count": 29,
   "metadata": {},
   "outputs": [
    {
     "name": "stdout",
     "output_type": "stream",
     "text": [
      "Feature matrix\n",
      " [[ 1.13376944 -1.09989127]\n",
      " [ 0.04221375  0.58281521]\n",
      " [-0.17242821 -0.87785842]]\n",
      "Target vector\n",
      " [ 43.73962424  21.30940352 -39.62771833]\n"
     ]
    }
   ],
   "source": [
    "# 1 suppose we want linear regression dataset\n",
    "\n",
    "from sklearn.datasets import make_regression\n",
    "\n",
    "# now generate features , target , and true coeficients.\n",
    "features,target,coefficients = make_regression(n_samples = 10,\n",
    "                                              n_features = 2,\n",
    "                                              n_informative = 2,\n",
    "                                              n_targets = 1,\n",
    "                                              coef = True,\n",
    "                                              random_state = 1)\n",
    "\n",
    "print('Feature matrix\\n', features[:3])\n",
    "print('Target vector\\n',target[:3])"
   ]
  },
  {
   "cell_type": "code",
   "execution_count": 34,
   "metadata": {},
   "outputs": [
    {
     "name": "stdout",
     "output_type": "stream",
     "text": [
      "\n",
      " Feature vector is: [[-4.08401943  0.29062788]\n",
      " [ 1.99279135  0.06060854]\n",
      " [-1.55118469  1.03584131]]\n",
      "\n",
      " Target vector is: [1 0 1]\n"
     ]
    }
   ],
   "source": [
    "# now create simulated dataset for classification \n",
    "# Number of informative, redundant and repeated features must sum to less than the number of total features\n",
    "\n",
    "from sklearn.datasets import make_classification\n",
    "\n",
    "# generate like before\n",
    "\n",
    "features,target = make_classification(n_samples = 10,\n",
    "                                              n_features = 2,\n",
    "                                              n_informative = 2,\n",
    "                                              n_redundant = 0,\n",
    "                                              n_classes = 2,\n",
    "                                              weights = [.10 , .20], # here 10 % belong to one class and 20% belong to other class.\n",
    "                                      # next time choose such that sum = 100 !!\n",
    "                                              random_state = 1)\n",
    "print('\\n Feature vector is:',features[:3])\n",
    "print('\\n Target vector is:',target[:3])"
   ]
  },
  {
   "cell_type": "code",
   "execution_count": 41,
   "metadata": {},
   "outputs": [
    {
     "name": "stdout",
     "output_type": "stream",
     "text": [
      "\n",
      " Feature vector is: [[-9.9977125  -3.95334855]\n",
      " [-9.9977125  -3.95334855]\n",
      " [-9.9977125  -3.95334855]]\n",
      "\n",
      " Target vector is: [1 1 1]\n"
     ]
    },
    {
     "data": {
      "image/png": "[encoded data removed]",
      "text/plain": [
       "<Figure size 432x288 with 1 Axes>"
      ]
     },
     "metadata": {
      "needs_background": "light"
     },
     "output_type": "display_data"
    }
   ],
   "source": [
    "# now dataset for clustering techniques \n",
    "\n",
    "from sklearn.datasets import make_blobs\n",
    "\n",
    "features,target = make_blobs(n_samples = 10,\n",
    "                                              n_features = 2,\n",
    "                                              centers = 2,\n",
    "                                              cluster_std= 0,\n",
    "                                              shuffle = True,\n",
    "                                              random_state = 1)\n",
    "print('\\n Feature vector is:',features[:3])\n",
    "print('\\n Target vector is:',target[:3])\n",
    "\n",
    "import matplotlib.pyplot as plt\n",
    "\n",
    "plt.scatter(features[:,0] , features[:,1], c= target)\n",
    "plt.show()"
   ]
  },
  {
   "cell_type": "code",
   "execution_count": 40,
   "metadata": {},
   "outputs": [
    {
     "data": {
      "image/png": "[encoded data removed]",
      "text/plain": [
       "<Figure size 432x288 with 1 Axes>"
      ]
     },
     "metadata": {
      "needs_background": "light"
     },
     "output_type": "display_data"
    }
   ],
   "source": [
    "#to visulaize clusetrs generated using make_blobs\n",
    "\n",
    "import matplotlib.pyplot as plt\n",
    "\n",
    "plt.scatter(features[:,0] , features[:,1], c= target)\n",
    "plt.show()"
   ]
  },
  {
   "cell_type": "code",
   "execution_count": 44,
   "metadata": {},
   "outputs": [
    {
     "data": {
      "text/plain": [
       "\" dataframe = pd.read_json(url , orient = 'columns') # orient tells how json file is strctured. \""
      ]
     },
     "execution_count": 44,
     "metadata": {},
     "output_type": "execute_result"
    }
   ],
   "source": [
    "# loading a CSV file \n",
    "\n",
    "# using pandas framework\n",
    "\n",
    "#--------\n",
    "\n",
    "# load library\n",
    "# create url \n",
    "# load dataset\n",
    "# view data\n",
    "\n",
    "#---------\n",
    "\n",
    "\"\"\" import pandas as pd\n",
    "\n",
    "url = 'https://vincentarelbundock.github.io/Rdatasets/datasets.html'\n",
    "\n",
    "dataframe = pd.read_csv(url)\n",
    "\n",
    "dataframe.head(2)\n",
    "\n",
    "\"\"\"\n",
    "\n",
    "\n",
    "#-----------\n",
    "\n",
    "\n",
    "# loading excel file \n",
    "\n",
    "# change will be in load data stage:\n",
    "\n",
    "\"\"\"\"dataframe = pd.read_excel(url,sheetname = 0) # here sheetname = 0 means get the sheet indexed at 0.\"\"\"\n",
    "\n",
    "#----------------\n",
    "\n",
    "\n",
    "# loading json file \n",
    "\n",
    "# chnage in loading data stage \n",
    "\n",
    "\"\"\" dataframe = pd.read_json(url , orient = 'columns') # orient tells how json file is strctured. \"\"\"\n",
    "\n",
    "# json_normalize converts unstructuredd json to structuredd json."
   ]
  },
  {
   "cell_type": "code",
   "execution_count": 45,
   "metadata": {},
   "outputs": [
    {
     "data": {
      "text/plain": [
       "\" \\n# load libraries\\nimport pandas as pd\\nfrom sqlalchemy import create_engine\\n\\n# create connection to database\\n\\ndatabase_connection = create_engine(' enter url of some .db extension database location')\\n\\n# load data \\n\\ndataframe = pd.read_sql_query('select * from data', database_connection)\\n\\n# view data\\n\\ndataframe.head(2) # views 2 rows.\\n\\n\\n\""
      ]
     },
     "execution_count": 45,
     "metadata": {},
     "output_type": "execute_result"
    }
   ],
   "source": [
    "# loadding data from database\n",
    "\n",
    "\"\"\" \n",
    "# load libraries\n",
    "import pandas as pd\n",
    "from sqlalchemy import create_engine\n",
    "\n",
    "# create connection to database\n",
    "\n",
    "database_connection = create_engine(' enter url of some .db extension database location')\n",
    "\n",
    "# load data \n",
    "\n",
    "dataframe = pd.read_sql_query('select * from data', database_connection)\n",
    "\n",
    "# view data\n",
    "\n",
    "dataframe.head(2) # views 2 rows.\n",
    "\n",
    "\n",
    "\"\"\"\n",
    "\n"
   ]
  },
  {
   "cell_type": "code",
   "execution_count": null,
   "metadata": {},
   "outputs": [],
   "source": []
  }
 ],
 "metadata": {
  "kernelspec": {
   "display_name": "Python 3",
   "language": "python",
   "name": "python3"
  },
  "language_info": {
   "codemirror_mode": {
    "name": "ipython",
    "version": 3
   },
   "file_extension": ".py",
   "mimetype": "text/x-python",
   "name": "python",
   "nbconvert_exporter": "python",
   "pygments_lexer": "ipython3",
   "version": "3.8.3"
  }
 },
 "nbformat": 4,
 "nbformat_minor": 4
}
