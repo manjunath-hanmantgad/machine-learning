{
 "cells": [
  {
   "cell_type": "code",
   "execution_count": 3,
   "metadata": {},
   "outputs": [
    {
     "name": "stderr",
     "output_type": "stream",
     "text": [
      "Using TensorFlow backend.\n"
     ]
    },
    {
     "data": {
      "text/plain": [
       "'2.3.1'"
      ]
     },
     "execution_count": 3,
     "metadata": {},
     "output_type": "execute_result"
    }
   ],
   "source": [
    "import keras\n",
    "keras.__version__"
   ]
  },
  {
   "cell_type": "code",
   "execution_count": 4,
   "metadata": {},
   "outputs": [
    {
     "name": "stdout",
     "output_type": "stream",
     "text": [
      "Downloading data from https://s3.amazonaws.com/text-datasets/reuters.npz\n",
      "2113536/2110848 [==============================] - 3s 1us/step\n"
     ]
    }
   ],
   "source": [
    "# loading the reuters dataset\n",
    "#There are 46 different topics; some topics are more represented than others, but each topic\n",
    "# has at least 10 examples in the trainingset.\n",
    "\n",
    "from keras.datasets import reuters\n",
    "\n",
    "(train_data, train_labels), (test_data, test_labels) = reuters.load_data(num_words=10000)"
   ]
  },
  {
   "cell_type": "code",
   "execution_count": 5,
   "metadata": {},
   "outputs": [
    {
     "data": {
      "text/plain": [
       "8982"
      ]
     },
     "execution_count": 5,
     "metadata": {},
     "output_type": "execute_result"
    }
   ],
   "source": [
    "len(train_data)\n"
   ]
  },
  {
   "cell_type": "code",
   "execution_count": 6,
   "metadata": {},
   "outputs": [
    {
     "data": {
      "text/plain": [
       "2246"
      ]
     },
     "execution_count": 6,
     "metadata": {},
     "output_type": "execute_result"
    }
   ],
   "source": [
    "len(test_data)"
   ]
  },
  {
   "cell_type": "code",
   "execution_count": 7,
   "metadata": {},
   "outputs": [
    {
     "data": {
      "text/plain": [
       "[1,\n",
       " 2,\n",
       " 2,\n",
       " 8,\n",
       " 43,\n",
       " 10,\n",
       " 447,\n",
       " 5,\n",
       " 25,\n",
       " 207,\n",
       " 270,\n",
       " 5,\n",
       " 3095,\n",
       " 111,\n",
       " 16,\n",
       " 369,\n",
       " 186,\n",
       " 90,\n",
       " 67,\n",
       " 7,\n",
       " 89,\n",
       " 5,\n",
       " 19,\n",
       " 102,\n",
       " 6,\n",
       " 19,\n",
       " 124,\n",
       " 15,\n",
       " 90,\n",
       " 67,\n",
       " 84,\n",
       " 22,\n",
       " 482,\n",
       " 26,\n",
       " 7,\n",
       " 48,\n",
       " 4,\n",
       " 49,\n",
       " 8,\n",
       " 864,\n",
       " 39,\n",
       " 209,\n",
       " 154,\n",
       " 6,\n",
       " 151,\n",
       " 6,\n",
       " 83,\n",
       " 11,\n",
       " 15,\n",
       " 22,\n",
       " 155,\n",
       " 11,\n",
       " 15,\n",
       " 7,\n",
       " 48,\n",
       " 9,\n",
       " 4579,\n",
       " 1005,\n",
       " 504,\n",
       " 6,\n",
       " 258,\n",
       " 6,\n",
       " 272,\n",
       " 11,\n",
       " 15,\n",
       " 22,\n",
       " 134,\n",
       " 44,\n",
       " 11,\n",
       " 15,\n",
       " 16,\n",
       " 8,\n",
       " 197,\n",
       " 1245,\n",
       " 90,\n",
       " 67,\n",
       " 52,\n",
       " 29,\n",
       " 209,\n",
       " 30,\n",
       " 32,\n",
       " 132,\n",
       " 6,\n",
       " 109,\n",
       " 15,\n",
       " 17,\n",
       " 12]"
      ]
     },
     "execution_count": 7,
     "metadata": {},
     "output_type": "execute_result"
    }
   ],
   "source": [
    "train_data[0] # each example is list of integers."
   ]
  },
  {
   "cell_type": "code",
   "execution_count": 8,
   "metadata": {},
   "outputs": [],
   "source": [
    "# Preparing the data\n"
   ]
  },
  {
   "cell_type": "code",
   "execution_count": 9,
   "metadata": {},
   "outputs": [],
   "source": [
    "# encoding the data\n",
    "\n",
    "# first vectorizing the data.\n",
    "\n",
    "import numpy as np\n",
    "\n",
    "def vectorize_sequences(sequences, dimension=10000):\n",
    "    results = np.zeros((len(sequences), dimension))\n",
    "    for i, sequence in enumerate(sequences):\n",
    "        results[i, sequence] = 1.\n",
    "    return results\n",
    "\n",
    "# Our vectorized training data\n",
    "x_train = vectorize_sequences(train_data)\n",
    "# Our vectorized test data\n",
    "x_test = vectorize_sequences(test_data)"
   ]
  },
  {
   "cell_type": "code",
   "execution_count": 11,
   "metadata": {},
   "outputs": [],
   "source": [
    "# if using one hot encoding then\n",
    "\n",
    "def to_one_hot(labels, dimension=46):\n",
    "    results = np.zeros((len(labels), dimension))\n",
    "    for i, label in enumerate(labels):\n",
    "        results[i, label] = 1.\n",
    "    return results\n",
    "\n",
    "one_hot_train_labels = to_one_hot(train_labels)\n",
    "one_hot_test_labels = to_one_hot(test_labels)\n",
    "\n"
   ]
  },
  {
   "cell_type": "code",
   "execution_count": 12,
   "metadata": {},
   "outputs": [],
   "source": [
    "# building network\n",
    "\n",
    "# here using same 3 layers like before but now instead of 16 hidden units( 16 axes) now using 64 units.\n",
    "\n",
    "# example :\n",
    "# model.add(layers.Dense(64,activation = '' , input_shape=()))\n",
    "\n",
    "# also additional feature is in last layer \n",
    "\n",
    "# model.add(layers.Dense(46,activation = '')) \n",
    "# here for each input , output will have 46 d vector,and with softmax activation it means it will produce a probabity score that will sum upto 1 using 46 output classes.\n",
    "\n",
    "\n",
    "from keras import models\n",
    "from keras import layers\n",
    "\n",
    "model = models.Sequential()\n",
    "model.add(layers.Dense(64, activation='relu', input_shape=(10000,)))\n",
    "model.add(layers.Dense(64, activation='relu'))\n",
    "model.add(layers.Dense(46, activation='softmax'))"
   ]
  },
  {
   "cell_type": "code",
   "execution_count": 13,
   "metadata": {},
   "outputs": [],
   "source": [
    "# compiling the model \n",
    "\n",
    "# as optimizer use : rmsprop \n",
    "# loss function : categorical_crossentropy \n",
    "# because it measures distance between 2 probability distributions\n",
    "# i.e between output by network and output by labelled data\n",
    "\n",
    "model.compile(optimizer='rmsprop',\n",
    "              loss='categorical_crossentropy',\n",
    "              metrics=['accuracy'])"
   ]
  },
  {
   "cell_type": "code",
   "execution_count": 14,
   "metadata": {},
   "outputs": [],
   "source": [
    "# now separating data for validation\n",
    "\n",
    "# setting aside 1000 samples.\n",
    "\n",
    "x_val = x_train[:1000]\n",
    "partial_x_train = x_train[1000:]\n",
    "y_val = one_hot_train_labels[:1000]\n",
    "partial_y_train = one_hot_train_labels[1000:]"
   ]
  },
  {
   "cell_type": "code",
   "execution_count": 15,
   "metadata": {},
   "outputs": [
    {
     "name": "stdout",
     "output_type": "stream",
     "text": [
      "Train on 7982 samples, validate on 1000 samples\n",
      "Epoch 1/20\n",
      "7982/7982 [==============================] - 4s 531us/step - loss: 2.5803 - accuracy: 0.5390 - val_loss: 1.7046 - val_accuracy: 0.6520\n",
      "Epoch 2/20\n",
      "7982/7982 [==============================] - 1s 142us/step - loss: 1.4078 - accuracy: 0.7107 - val_loss: 1.3120 - val_accuracy: 0.7250\n",
      "Epoch 3/20\n",
      "7982/7982 [==============================] - 1s 146us/step - loss: 1.0548 - accuracy: 0.7800 - val_loss: 1.1658 - val_accuracy: 0.7370\n",
      "Epoch 4/20\n",
      "7982/7982 [==============================] - 1s 149us/step - loss: 0.8405 - accuracy: 0.8216 - val_loss: 1.0462 - val_accuracy: 0.7690\n",
      "Epoch 5/20\n",
      "7982/7982 [==============================] - 1s 148us/step - loss: 0.6699 - accuracy: 0.8559 - val_loss: 0.9740 - val_accuracy: 0.8020\n",
      "Epoch 6/20\n",
      "7982/7982 [==============================] - 1s 148us/step - loss: 0.5388 - accuracy: 0.8865 - val_loss: 0.9337 - val_accuracy: 0.8070\n",
      "Epoch 7/20\n",
      "7982/7982 [==============================] - 1s 146us/step - loss: 0.4328 - accuracy: 0.9100 - val_loss: 0.9170 - val_accuracy: 0.8130\n",
      "Epoch 8/20\n",
      "7982/7982 [==============================] - 1s 149us/step - loss: 0.3543 - accuracy: 0.9242 - val_loss: 0.9071 - val_accuracy: 0.8100\n",
      "Epoch 9/20\n",
      "7982/7982 [==============================] - 1s 148us/step - loss: 0.2897 - accuracy: 0.9377 - val_loss: 0.9179 - val_accuracy: 0.8160\n",
      "Epoch 10/20\n",
      "7982/7982 [==============================] - 1s 146us/step - loss: 0.2457 - accuracy: 0.9446 - val_loss: 0.9302 - val_accuracy: 0.8050\n",
      "Epoch 11/20\n",
      "7982/7982 [==============================] - 1s 146us/step - loss: 0.2140 - accuracy: 0.9473 - val_loss: 0.9481 - val_accuracy: 0.8070\n",
      "Epoch 12/20\n",
      "7982/7982 [==============================] - 1s 146us/step - loss: 0.1869 - accuracy: 0.9510 - val_loss: 0.9138 - val_accuracy: 0.8290\n",
      "Epoch 13/20\n",
      "7982/7982 [==============================] - 1s 146us/step - loss: 0.1677 - accuracy: 0.9533 - val_loss: 0.9972 - val_accuracy: 0.8020\n",
      "Epoch 14/20\n",
      "7982/7982 [==============================] - 1s 149us/step - loss: 0.1506 - accuracy: 0.9540 - val_loss: 1.0152 - val_accuracy: 0.8040\n",
      "Epoch 15/20\n",
      "7982/7982 [==============================] - 1s 156us/step - loss: 0.1444 - accuracy: 0.9563 - val_loss: 1.0597 - val_accuracy: 0.7920\n",
      "Epoch 16/20\n",
      "7982/7982 [==============================] - 1s 165us/step - loss: 0.1325 - accuracy: 0.9549 - val_loss: 1.0282 - val_accuracy: 0.8070\n",
      "Epoch 17/20\n",
      "7982/7982 [==============================] - 1s 146us/step - loss: 0.1217 - accuracy: 0.9577 - val_loss: 1.0438 - val_accuracy: 0.8130\n",
      "Epoch 18/20\n",
      "7982/7982 [==============================] - 1s 146us/step - loss: 0.1217 - accuracy: 0.9559 - val_loss: 1.0969 - val_accuracy: 0.7930\n",
      "Epoch 19/20\n",
      "7982/7982 [==============================] - 1s 146us/step - loss: 0.1162 - accuracy: 0.9574 - val_loss: 1.1254 - val_accuracy: 0.7980\n",
      "Epoch 20/20\n",
      "7982/7982 [==============================] - 1s 146us/step - loss: 0.1122 - accuracy: 0.9582 - val_loss: 1.1461 - val_accuracy: 0.7980\n"
     ]
    }
   ],
   "source": [
    "# training the model\n",
    "\n",
    "# 20 epochs\n",
    "\n",
    "history = model.fit(partial_x_train,\n",
    "                    partial_y_train,\n",
    "                    epochs=20,\n",
    "                    batch_size=512,\n",
    "                    validation_data=(x_val, y_val))"
   ]
  },
  {
   "cell_type": "code",
   "execution_count": 18,
   "metadata": {},
   "outputs": [
    {
     "data": {
      "image/png": "[encoded data removed]",
      "text/plain": [
       "<Figure size 432x288 with 1 Axes>"
      ]
     },
     "metadata": {
      "needs_background": "light"
     },
     "output_type": "display_data"
    }
   ],
   "source": [
    "# now displaying it \n",
    "\n",
    "import matplotlib.pyplot as plt\n",
    "\n",
    "loss = history.history['loss']\n",
    "val_loss = history.history['val_loss']\n",
    "\n",
    "epochs = range(1, len(loss) + 1)\n",
    "\n",
    "plt.plot(epochs, loss, 'bo', label='Training loss')\n",
    "plt.plot(epochs, val_loss, 'b', label='Validation loss')\n",
    "plt.title('Training and validation loss')\n",
    "plt.xlabel('Epochs')\n",
    "plt.ylabel('Loss')\n",
    "plt.legend()\n",
    "\n",
    "plt.show()"
   ]
  },
  {
   "cell_type": "code",
   "execution_count": 20,
   "metadata": {},
   "outputs": [
    {
     "data": {
      "image/png": "[encoded data removed]",
      "text/plain": [
       "<Figure size 432x288 with 1 Axes>"
      ]
     },
     "metadata": {
      "needs_background": "light"
     },
     "output_type": "display_data"
    }
   ],
   "source": [
    "# now displaying training and validation accuracy \n",
    "plt.clf()\n",
    "acc = history.history['accuracy']\n",
    "val_acc = history.history['val_accuracy']\n",
    "plt.plot(epochs, acc, 'bo', label='Training acc')\n",
    "plt.plot(epochs, val_acc, 'b', label='Validation acc')\n",
    "plt.title('Training and validation accuracy')\n",
    "plt.xlabel('Epochs')\n",
    "plt.ylabel('Loss')\n",
    "plt.legend()\n",
    "plt.show()\n"
   ]
  },
  {
   "cell_type": "code",
   "execution_count": 21,
   "metadata": {},
   "outputs": [
    {
     "name": "stdout",
     "output_type": "stream",
     "text": [
      "Train on 7982 samples, validate on 1000 samples\n",
      "Epoch 1/12\n",
      "7982/7982 [==============================] - 1s 159us/step - loss: 2.7214 - accuracy: 0.4688 - val_loss: 1.8170 - val_accuracy: 0.6340\n",
      "Epoch 2/12\n",
      "7982/7982 [==============================] - 1s 144us/step - loss: 1.4757 - accuracy: 0.7058 - val_loss: 1.3202 - val_accuracy: 0.7160\n",
      "Epoch 3/12\n",
      "7982/7982 [==============================] - 1s 144us/step - loss: 1.0717 - accuracy: 0.7783 - val_loss: 1.1350 - val_accuracy: 0.7600\n",
      "Epoch 4/12\n",
      "7982/7982 [==============================] - 1s 148us/step - loss: 0.8466 - accuracy: 0.8201 - val_loss: 1.0449 - val_accuracy: 0.7770\n",
      "Epoch 5/12\n",
      "7982/7982 [==============================] - 1s 146us/step - loss: 0.6837 - accuracy: 0.8553 - val_loss: 0.9964 - val_accuracy: 0.7900\n",
      "Epoch 6/12\n",
      "7982/7982 [==============================] - 1s 146us/step - loss: 0.5559 - accuracy: 0.8850 - val_loss: 0.9421 - val_accuracy: 0.8140\n",
      "Epoch 7/12\n",
      "7982/7982 [==============================] - 1s 148us/step - loss: 0.4524 - accuracy: 0.9058 - val_loss: 0.9171 - val_accuracy: 0.8090\n",
      "Epoch 8/12\n",
      "7982/7982 [==============================] - 1s 150us/step - loss: 0.3728 - accuracy: 0.9223 - val_loss: 0.9251 - val_accuracy: 0.8140\n",
      "Epoch 9/12\n",
      "7982/7982 [==============================] - 1s 152us/step - loss: 0.3106 - accuracy: 0.9336 - val_loss: 0.9403 - val_accuracy: 0.8100\n",
      "Epoch 10/12\n",
      "7982/7982 [==============================] - 1s 149us/step - loss: 0.2618 - accuracy: 0.9417 - val_loss: 0.9438 - val_accuracy: 0.8030\n",
      "Epoch 11/12\n",
      "7982/7982 [==============================] - 1s 161us/step - loss: 0.2248 - accuracy: 0.9465 - val_loss: 0.9174 - val_accuracy: 0.8230\n",
      "Epoch 12/12\n",
      "7982/7982 [==============================] - 1s 144us/step - loss: 0.1988 - accuracy: 0.9484 - val_loss: 1.0856 - val_accuracy: 0.7870\n",
      "2246/2246 [==============================] - 0s 221us/step\n"
     ]
    }
   ],
   "source": [
    "# in our case the overfitting begins at around 12-13 epochs\n",
    "\n",
    "# so re training it for 12 epochs\n",
    "\n",
    "model = models.Sequential()\n",
    "model.add(layers.Dense(64, activation='relu', input_shape=(10000,)))\n",
    "model.add(layers.Dense(64, activation='relu'))\n",
    "model.add(layers.Dense(46, activation='softmax'))\n",
    "\n",
    "model.compile(optimizer='rmsprop',\n",
    "              loss='categorical_crossentropy',\n",
    "              metrics=['accuracy'])\n",
    "model.fit(partial_x_train,\n",
    "          partial_y_train,\n",
    "          epochs=12,\n",
    "          batch_size=512,\n",
    "          validation_data=(x_val, y_val))\n",
    "results = model.evaluate(x_test, one_hot_test_labels)"
   ]
  },
  {
   "cell_type": "code",
   "execution_count": 22,
   "metadata": {},
   "outputs": [
    {
     "data": {
      "text/plain": [
       "[1.1089019242504932, 0.7662510871887207]"
      ]
     },
     "execution_count": 22,
     "metadata": {},
     "output_type": "execute_result"
    }
   ],
   "source": [
    "results"
   ]
  },
  {
   "cell_type": "code",
   "execution_count": 23,
   "metadata": {},
   "outputs": [
    {
     "name": "stdout",
     "output_type": "stream",
     "text": [
      "Train on 7982 samples, validate on 1000 samples\n",
      "Epoch 1/11\n",
      "7982/7982 [==============================] - 1s 154us/step - loss: 2.7194 - accuracy: 0.5148 - val_loss: 1.8035 - val_accuracy: 0.6630\n",
      "Epoch 2/11\n",
      "7982/7982 [==============================] - 1s 142us/step - loss: 1.4753 - accuracy: 0.7055 - val_loss: 1.3348 - val_accuracy: 0.6980\n",
      "Epoch 3/11\n",
      "7982/7982 [==============================] - 1s 142us/step - loss: 1.0788 - accuracy: 0.7711 - val_loss: 1.1297 - val_accuracy: 0.7470\n",
      "Epoch 4/11\n",
      "7982/7982 [==============================] - 1s 144us/step - loss: 0.8434 - accuracy: 0.8158 - val_loss: 1.0302 - val_accuracy: 0.7770\n",
      "Epoch 5/11\n",
      "7982/7982 [==============================] - 1s 147us/step - loss: 0.6669 - accuracy: 0.8568 - val_loss: 0.9559 - val_accuracy: 0.8020\n",
      "Epoch 6/11\n",
      "7982/7982 [==============================] - 1s 154us/step - loss: 0.5358 - accuracy: 0.8866 - val_loss: 0.9133 - val_accuracy: 0.8190\n",
      "Epoch 7/11\n",
      "7982/7982 [==============================] - 1s 144us/step - loss: 0.4281 - accuracy: 0.9117 - val_loss: 0.8980 - val_accuracy: 0.8080\n",
      "Epoch 8/11\n",
      "7982/7982 [==============================] - 1s 148us/step - loss: 0.3520 - accuracy: 0.9243 - val_loss: 0.8952 - val_accuracy: 0.8130\n",
      "Epoch 9/11\n",
      "7982/7982 [==============================] - 1s 145us/step - loss: 0.2871 - accuracy: 0.9369 - val_loss: 0.9319 - val_accuracy: 0.8060\n",
      "Epoch 10/11\n",
      "7982/7982 [==============================] - 1s 161us/step - loss: 0.2460 - accuracy: 0.9439 - val_loss: 0.8936 - val_accuracy: 0.8220\n",
      "Epoch 11/11\n",
      "7982/7982 [==============================] - 1s 143us/step - loss: 0.2109 - accuracy: 0.9493 - val_loss: 0.9272 - val_accuracy: 0.8180\n",
      "2246/2246 [==============================] - 0s 147us/step\n"
     ]
    }
   ],
   "source": [
    "# retarining again\n",
    "\n",
    "model = models.Sequential()\n",
    "model.add(layers.Dense(64, activation='relu', input_shape=(10000,)))\n",
    "model.add(layers.Dense(64, activation='relu'))\n",
    "model.add(layers.Dense(46, activation='softmax'))\n",
    "\n",
    "model.compile(optimizer='rmsprop',\n",
    "              loss='categorical_crossentropy',\n",
    "              metrics=['accuracy'])\n",
    "model.fit(partial_x_train,\n",
    "          partial_y_train,\n",
    "          epochs=11,\n",
    "          batch_size=512,\n",
    "          validation_data=(x_val, y_val))\n",
    "results = model.evaluate(x_test, one_hot_test_labels)"
   ]
  },
  {
   "cell_type": "code",
   "execution_count": 24,
   "metadata": {},
   "outputs": [
    {
     "data": {
      "text/plain": [
       "[1.0202282774374087, 0.784060537815094]"
      ]
     },
     "execution_count": 24,
     "metadata": {},
     "output_type": "execute_result"
    }
   ],
   "source": [
    "results\n",
    "\n",
    "# slight better"
   ]
  },
  {
   "cell_type": "code",
   "execution_count": 25,
   "metadata": {},
   "outputs": [
    {
     "name": "stdout",
     "output_type": "stream",
     "text": [
      "Train on 7982 samples, validate on 1000 samples\n",
      "Epoch 1/14\n",
      "7982/7982 [==============================] - 1s 155us/step - loss: 2.5720 - accuracy: 0.5180 - val_loss: 1.7317 - val_accuracy: 0.6270\n",
      "Epoch 2/14\n",
      "7982/7982 [==============================] - 1s 146us/step - loss: 1.4167 - accuracy: 0.6942 - val_loss: 1.3006 - val_accuracy: 0.7130\n",
      "Epoch 3/14\n",
      "7982/7982 [==============================] - 1s 144us/step - loss: 1.0417 - accuracy: 0.7725 - val_loss: 1.1213 - val_accuracy: 0.7510\n",
      "Epoch 4/14\n",
      "7982/7982 [==============================] - 1s 144us/step - loss: 0.8175 - accuracy: 0.8235 - val_loss: 1.0287 - val_accuracy: 0.7770\n",
      "Epoch 5/14\n",
      "7982/7982 [==============================] - 1s 155us/step - loss: 0.6532 - accuracy: 0.8582 - val_loss: 0.9764 - val_accuracy: 0.7870\n",
      "Epoch 6/14\n",
      "7982/7982 [==============================] - 1s 144us/step - loss: 0.5189 - accuracy: 0.8913 - val_loss: 0.9237 - val_accuracy: 0.8140\n",
      "Epoch 7/14\n",
      "7982/7982 [==============================] - 1s 144us/step - loss: 0.4155 - accuracy: 0.9138 - val_loss: 0.8844 - val_accuracy: 0.8100\n",
      "Epoch 8/14\n",
      "7982/7982 [==============================] - 1s 146us/step - loss: 0.3387 - accuracy: 0.9272 - val_loss: 0.9006 - val_accuracy: 0.8110\n",
      "Epoch 9/14\n",
      "7982/7982 [==============================] - 1s 146us/step - loss: 0.2795 - accuracy: 0.9397 - val_loss: 0.9004 - val_accuracy: 0.8070\n",
      "Epoch 10/14\n",
      "7982/7982 [==============================] - 1s 163us/step - loss: 0.2349 - accuracy: 0.9451 - val_loss: 0.8827 - val_accuracy: 0.8240\n",
      "Epoch 11/14\n",
      "7982/7982 [==============================] - 1s 152us/step - loss: 0.2059 - accuracy: 0.9476 - val_loss: 0.8961 - val_accuracy: 0.8170\n",
      "Epoch 12/14\n",
      "7982/7982 [==============================] - 1s 150us/step - loss: 0.1756 - accuracy: 0.9510 - val_loss: 0.9370 - val_accuracy: 0.8100\n",
      "Epoch 13/14\n",
      "7982/7982 [==============================] - 1s 140us/step - loss: 0.1625 - accuracy: 0.9541 - val_loss: 0.9555 - val_accuracy: 0.8000\n",
      "Epoch 14/14\n",
      "7982/7982 [==============================] - 1s 143us/step - loss: 0.1479 - accuracy: 0.9536 - val_loss: 0.9253 - val_accuracy: 0.8080\n",
      "2246/2246 [==============================] - 0s 164us/step\n"
     ]
    }
   ],
   "source": [
    "# retarining again \n",
    "\n",
    "model = models.Sequential()\n",
    "model.add(layers.Dense(64, activation='relu', input_shape=(10000,)))\n",
    "model.add(layers.Dense(64, activation='relu'))\n",
    "model.add(layers.Dense(46, activation='softmax'))\n",
    "\n",
    "model.compile(optimizer='rmsprop',\n",
    "              loss='categorical_crossentropy',\n",
    "              metrics=['accuracy'])\n",
    "model.fit(partial_x_train,\n",
    "          partial_y_train,\n",
    "          epochs=14,\n",
    "          batch_size=512,\n",
    "          validation_data=(x_val, y_val))\n",
    "results = model.evaluate(x_test, one_hot_test_labels)"
   ]
  },
  {
   "cell_type": "code",
   "execution_count": 26,
   "metadata": {},
   "outputs": [
    {
     "data": {
      "text/plain": [
       "[1.091252844140451, 0.7871772050857544]"
      ]
     },
     "execution_count": 26,
     "metadata": {},
     "output_type": "execute_result"
    }
   ],
   "source": [
    "results"
   ]
  },
  {
   "cell_type": "code",
   "execution_count": 27,
   "metadata": {},
   "outputs": [
    {
     "name": "stdout",
     "output_type": "stream",
     "text": [
      "Train on 7982 samples, validate on 1000 samples\n",
      "Epoch 1/16\n",
      "7982/7982 [==============================] - 1s 153us/step - loss: 2.6367 - accuracy: 0.4752 - val_loss: 1.7538 - val_accuracy: 0.6300\n",
      "Epoch 2/16\n",
      "7982/7982 [==============================] - 1s 144us/step - loss: 1.4492 - accuracy: 0.6880 - val_loss: 1.3227 - val_accuracy: 0.7140\n",
      "Epoch 3/16\n",
      "7982/7982 [==============================] - 1s 144us/step - loss: 1.0667 - accuracy: 0.7771 - val_loss: 1.1308 - val_accuracy: 0.7670\n",
      "Epoch 4/16\n",
      "7982/7982 [==============================] - 1s 149us/step - loss: 0.8380 - accuracy: 0.8224 - val_loss: 1.0587 - val_accuracy: 0.7650\n",
      "Epoch 5/16\n",
      "7982/7982 [==============================] - 1s 146us/step - loss: 0.6581 - accuracy: 0.8637 - val_loss: 0.9872 - val_accuracy: 0.7880\n",
      "Epoch 6/16\n",
      "7982/7982 [==============================] - 1s 147us/step - loss: 0.5274 - accuracy: 0.8921 - val_loss: 0.9047 - val_accuracy: 0.8110\n",
      "Epoch 7/16\n",
      "7982/7982 [==============================] - 1s 148us/step - loss: 0.4179 - accuracy: 0.9157 - val_loss: 0.8899 - val_accuracy: 0.8180\n",
      "Epoch 8/16\n",
      "7982/7982 [==============================] - 1s 155us/step - loss: 0.3502 - accuracy: 0.9276 - val_loss: 0.8799 - val_accuracy: 0.8220\n",
      "Epoch 9/16\n",
      "7982/7982 [==============================] - 1s 146us/step - loss: 0.2849 - accuracy: 0.9406 - val_loss: 0.8956 - val_accuracy: 0.8150\n",
      "Epoch 10/16\n",
      "7982/7982 [==============================] - 1s 147us/step - loss: 0.2412 - accuracy: 0.9456 - val_loss: 0.9493 - val_accuracy: 0.8010\n",
      "Epoch 11/16\n",
      "7982/7982 [==============================] - 1s 146us/step - loss: 0.2067 - accuracy: 0.9501 - val_loss: 0.9216 - val_accuracy: 0.8070\n",
      "Epoch 12/16\n",
      "7982/7982 [==============================] - 1s 144us/step - loss: 0.1844 - accuracy: 0.9508 - val_loss: 0.9193 - val_accuracy: 0.8160\n",
      "Epoch 13/16\n",
      "7982/7982 [==============================] - 1s 162us/step - loss: 0.1634 - accuracy: 0.9529 - val_loss: 0.9381 - val_accuracy: 0.8140\n",
      "Epoch 14/16\n",
      "7982/7982 [==============================] - 1s 157us/step - loss: 0.1524 - accuracy: 0.9541 - val_loss: 0.9746 - val_accuracy: 0.8200\n",
      "Epoch 15/16\n",
      "7982/7982 [==============================] - 1s 157us/step - loss: 0.1395 - accuracy: 0.9560 - val_loss: 0.9955 - val_accuracy: 0.8120\n",
      "Epoch 16/16\n",
      "7982/7982 [==============================] - 1s 157us/step - loss: 0.1354 - accuracy: 0.9541 - val_loss: 1.0163 - val_accuracy: 0.8040\n",
      "2246/2246 [==============================] - 0s 142us/step\n"
     ]
    }
   ],
   "source": [
    "# increasing as epochs increasing\n",
    "\n",
    "model = models.Sequential()\n",
    "model.add(layers.Dense(64, activation='relu', input_shape=(10000,)))\n",
    "model.add(layers.Dense(64, activation='relu'))\n",
    "model.add(layers.Dense(46, activation='softmax'))\n",
    "\n",
    "model.compile(optimizer='rmsprop',\n",
    "              loss='categorical_crossentropy',\n",
    "              metrics=['accuracy'])\n",
    "model.fit(partial_x_train,\n",
    "          partial_y_train,\n",
    "          epochs=16,\n",
    "          batch_size=512,\n",
    "          validation_data=(x_val, y_val))\n",
    "results = model.evaluate(x_test, one_hot_test_labels)"
   ]
  },
  {
   "cell_type": "code",
   "execution_count": 28,
   "metadata": {},
   "outputs": [
    {
     "data": {
      "text/plain": [
       "[1.121366068389091, 0.7849510312080383]"
      ]
     },
     "execution_count": 28,
     "metadata": {},
     "output_type": "execute_result"
    }
   ],
   "source": [
    "results\n",
    "\n",
    "# so trade off is between 11 < epochs < 16"
   ]
  },
  {
   "cell_type": "code",
   "execution_count": 29,
   "metadata": {},
   "outputs": [
    {
     "data": {
      "text/plain": [
       "0.1834372217275156"
      ]
     },
     "execution_count": 29,
     "metadata": {},
     "output_type": "execute_result"
    }
   ],
   "source": [
    "\n",
    "import copy\n",
    "\n",
    "test_labels_copy = copy.copy(test_labels)\n",
    "np.random.shuffle(test_labels_copy)\n",
    "float(np.sum(np.array(test_labels) == np.array(test_labels_copy))) / len(test_labels)"
   ]
  },
  {
   "cell_type": "code",
   "execution_count": 30,
   "metadata": {},
   "outputs": [],
   "source": [
    "# Predicting for the test data // testing our model.\n",
    "\n",
    "predictions = model.predict(x_test)"
   ]
  },
  {
   "cell_type": "code",
   "execution_count": 31,
   "metadata": {},
   "outputs": [
    {
     "data": {
      "text/plain": [
       "(46,)"
      ]
     },
     "execution_count": 31,
     "metadata": {},
     "output_type": "execute_result"
    }
   ],
   "source": [
    "predictions[0].shape"
   ]
  },
  {
   "cell_type": "code",
   "execution_count": 32,
   "metadata": {},
   "outputs": [
    {
     "data": {
      "text/plain": [
       "1.0"
      ]
     },
     "execution_count": 32,
     "metadata": {},
     "output_type": "execute_result"
    }
   ],
   "source": [
    "# now max value should be 1\n",
    "np.sum(predictions[0]) # this is sum of all 46 output classes"
   ]
  },
  {
   "cell_type": "code",
   "execution_count": 33,
   "metadata": {},
   "outputs": [
    {
     "data": {
      "text/plain": [
       "3"
      ]
     },
     "execution_count": 33,
     "metadata": {},
     "output_type": "execute_result"
    }
   ],
   "source": [
    "np.argmax(predictions[0]) # class with highest probability"
   ]
  },
  {
   "cell_type": "code",
   "execution_count": 34,
   "metadata": {},
   "outputs": [
    {
     "name": "stdout",
     "output_type": "stream",
     "text": [
      "Train on 7982 samples, validate on 1000 samples\n",
      "Epoch 1/20\n",
      "7982/7982 [==============================] - 2s 239us/step - loss: 1.7278 - accuracy: 0.6346 - val_loss: 1.1954 - val_accuracy: 0.7290\n",
      "Epoch 2/20\n",
      "7982/7982 [==============================] - 2s 220us/step - loss: 0.9287 - accuracy: 0.7939 - val_loss: 1.0038 - val_accuracy: 0.7840\n",
      "Epoch 3/20\n",
      "7982/7982 [==============================] - 2s 222us/step - loss: 0.6033 - accuracy: 0.8663 - val_loss: 0.8859 - val_accuracy: 0.8270\n",
      "Epoch 4/20\n",
      "7982/7982 [==============================] - 2s 223us/step - loss: 0.4017 - accuracy: 0.9142 - val_loss: 0.8666 - val_accuracy: 0.8160\n",
      "Epoch 5/20\n",
      "7982/7982 [==============================] - 2s 224us/step - loss: 0.2879 - accuracy: 0.9366 - val_loss: 0.9186 - val_accuracy: 0.8090\n",
      "Epoch 6/20\n",
      "7982/7982 [==============================] - 2s 226us/step - loss: 0.2195 - accuracy: 0.9456 - val_loss: 0.9829 - val_accuracy: 0.8040\n",
      "Epoch 7/20\n",
      "7982/7982 [==============================] - 2s 226us/step - loss: 0.1887 - accuracy: 0.9503 - val_loss: 0.9569 - val_accuracy: 0.8090\n",
      "Epoch 8/20\n",
      "7982/7982 [==============================] - 2s 242us/step - loss: 0.1654 - accuracy: 0.9529 - val_loss: 0.9980 - val_accuracy: 0.8160\n",
      "Epoch 9/20\n",
      "7982/7982 [==============================] - 2s 223us/step - loss: 0.1473 - accuracy: 0.9550 - val_loss: 1.0455 - val_accuracy: 0.8060\n",
      "Epoch 10/20\n",
      "7982/7982 [==============================] - 2s 227us/step - loss: 0.1420 - accuracy: 0.9538 - val_loss: 1.0235 - val_accuracy: 0.8040\n",
      "Epoch 11/20\n",
      "7982/7982 [==============================] - 2s 232us/step - loss: 0.1314 - accuracy: 0.9567 - val_loss: 1.0458 - val_accuracy: 0.8130\n",
      "Epoch 12/20\n",
      "7982/7982 [==============================] - 2s 224us/step - loss: 0.1241 - accuracy: 0.9572 - val_loss: 1.0896 - val_accuracy: 0.7980\n",
      "Epoch 13/20\n",
      "7982/7982 [==============================] - 2s 223us/step - loss: 0.1202 - accuracy: 0.9560 - val_loss: 1.1004 - val_accuracy: 0.8040\n",
      "Epoch 14/20\n",
      "7982/7982 [==============================] - 2s 226us/step - loss: 0.1147 - accuracy: 0.9559 - val_loss: 1.2257 - val_accuracy: 0.7970\n",
      "Epoch 15/20\n",
      "7982/7982 [==============================] - 2s 226us/step - loss: 0.1110 - accuracy: 0.9574 - val_loss: 1.2216 - val_accuracy: 0.7880\n",
      "Epoch 16/20\n",
      "7982/7982 [==============================] - 2s 229us/step - loss: 0.1057 - accuracy: 0.9565 - val_loss: 1.2975 - val_accuracy: 0.7830\n",
      "Epoch 17/20\n",
      "7982/7982 [==============================] - 2s 231us/step - loss: 0.1038 - accuracy: 0.9560 - val_loss: 1.2522 - val_accuracy: 0.7880\n",
      "Epoch 18/20\n",
      "7982/7982 [==============================] - 2s 228us/step - loss: 0.0983 - accuracy: 0.9580 - val_loss: 1.2923 - val_accuracy: 0.7920\n",
      "Epoch 19/20\n",
      "7982/7982 [==============================] - 2s 230us/step - loss: 0.0962 - accuracy: 0.9565 - val_loss: 1.2857 - val_accuracy: 0.7890\n",
      "Epoch 20/20\n",
      "7982/7982 [==============================] - 2s 228us/step - loss: 0.0941 - accuracy: 0.9558 - val_loss: 1.3655 - val_accuracy: 0.7930\n"
     ]
    },
    {
     "data": {
      "text/plain": [
       "<keras.callbacks.callbacks.History at 0x4ecf9e50>"
      ]
     },
     "execution_count": 34,
     "metadata": {},
     "output_type": "execute_result"
    }
   ],
   "source": [
    "# now lets play with it \n",
    "\n",
    "# what if number of hidden units is increased or decreased ?\n",
    "\n",
    "# case 1 : increase the number of hidden units and measure accuracy\n",
    "\n",
    "\n",
    "model = models.Sequential()\n",
    "model.add(layers.Dense(64, activation='relu', input_shape=(10000,)))\n",
    "model.add(layers.Dense(128, activation='relu'))\n",
    "model.add(layers.Dense(46, activation='softmax'))\n",
    "model.compile(optimizer='rmsprop',\n",
    "loss='categorical_crossentropy',\n",
    "metrics=['accuracy'])\n",
    "model.fit(partial_x_train,\n",
    "partial_y_train,\n",
    "epochs=20,\n",
    "batch_size=128,\n",
    "validation_data=(x_val, y_val))\n"
   ]
  },
  {
   "cell_type": "code",
   "execution_count": 35,
   "metadata": {},
   "outputs": [
    {
     "data": {
      "text/plain": [
       "[1.121366068389091, 0.7849510312080383]"
      ]
     },
     "execution_count": 35,
     "metadata": {},
     "output_type": "execute_result"
    }
   ],
   "source": [
    "results\n",
    "\n",
    "# so accuracy is at 79.30"
   ]
  },
  {
   "cell_type": "code",
   "execution_count": 36,
   "metadata": {},
   "outputs": [
    {
     "name": "stdout",
     "output_type": "stream",
     "text": [
      "Train on 7982 samples, validate on 1000 samples\n",
      "Epoch 1/20\n",
      "7982/7982 [==============================] - 2s 233us/step - loss: 3.0517 - accuracy: 0.1535 - val_loss: 2.3686 - val_accuracy: 0.4110\n",
      "Epoch 2/20\n",
      "7982/7982 [==============================] - 2s 217us/step - loss: 1.9547 - accuracy: 0.5124 - val_loss: 1.6957 - val_accuracy: 0.6130\n",
      "Epoch 3/20\n",
      "7982/7982 [==============================] - 2s 220us/step - loss: 1.4804 - accuracy: 0.6477 - val_loss: 1.4878 - val_accuracy: 0.6480\n",
      "Epoch 4/20\n",
      "7982/7982 [==============================] - 2s 227us/step - loss: 1.3177 - accuracy: 0.6726 - val_loss: 1.4304 - val_accuracy: 0.6510\n",
      "Epoch 5/20\n",
      "7982/7982 [==============================] - 2s 223us/step - loss: 1.2242 - accuracy: 0.6802 - val_loss: 1.4155 - val_accuracy: 0.6490\n",
      "Epoch 6/20\n",
      "7982/7982 [==============================] - 2s 226us/step - loss: 1.1516 - accuracy: 0.6803 - val_loss: 1.4295 - val_accuracy: 0.6460\n",
      "Epoch 7/20\n",
      "7982/7982 [==============================] - 2s 223us/step - loss: 1.0861 - accuracy: 0.6832 - val_loss: 1.4048 - val_accuracy: 0.6460\n",
      "Epoch 8/20\n",
      "7982/7982 [==============================] - 2s 233us/step - loss: 1.0227 - accuracy: 0.6959 - val_loss: 1.4240 - val_accuracy: 0.6410\n",
      "Epoch 9/20\n",
      "7982/7982 [==============================] - 2s 241us/step - loss: 0.9680 - accuracy: 0.7180 - val_loss: 1.4419 - val_accuracy: 0.6560\n",
      "Epoch 10/20\n",
      "7982/7982 [==============================] - 2s 222us/step - loss: 0.9162 - accuracy: 0.7357 - val_loss: 1.4997 - val_accuracy: 0.6700\n",
      "Epoch 11/20\n",
      "7982/7982 [==============================] - 2s 223us/step - loss: 0.8712 - accuracy: 0.7456 - val_loss: 1.4973 - val_accuracy: 0.6810\n",
      "Epoch 12/20\n",
      "7982/7982 [==============================] - 2s 226us/step - loss: 0.8324 - accuracy: 0.7521 - val_loss: 1.5255 - val_accuracy: 0.6730\n",
      "Epoch 13/20\n",
      "7982/7982 [==============================] - 2s 228us/step - loss: 0.7989 - accuracy: 0.7571 - val_loss: 1.5923 - val_accuracy: 0.6730\n",
      "Epoch 14/20\n",
      "7982/7982 [==============================] - 2s 234us/step - loss: 0.7693 - accuracy: 0.7690 - val_loss: 1.6367 - val_accuracy: 0.6760\n",
      "Epoch 15/20\n",
      "7982/7982 [==============================] - 2s 222us/step - loss: 0.7442 - accuracy: 0.7835 - val_loss: 1.6839 - val_accuracy: 0.6740\n",
      "Epoch 16/20\n",
      "7982/7982 [==============================] - 2s 228us/step - loss: 0.7196 - accuracy: 0.7978 - val_loss: 1.7341 - val_accuracy: 0.6740\n",
      "Epoch 17/20\n",
      "7982/7982 [==============================] - 2s 226us/step - loss: 0.6986 - accuracy: 0.8041 - val_loss: 1.7654 - val_accuracy: 0.6780\n",
      "Epoch 18/20\n",
      "7982/7982 [==============================] - 2s 238us/step - loss: 0.6795 - accuracy: 0.8117 - val_loss: 1.7895 - val_accuracy: 0.6750\n",
      "Epoch 19/20\n",
      "7982/7982 [==============================] - 2s 234us/step - loss: 0.6614 - accuracy: 0.8167 - val_loss: 1.8696 - val_accuracy: 0.6650\n",
      "Epoch 20/20\n",
      "7982/7982 [==============================] - 2s 221us/step - loss: 0.6448 - accuracy: 0.8217 - val_loss: 1.9930 - val_accuracy: 0.6680\n"
     ]
    },
    {
     "data": {
      "text/plain": [
       "<keras.callbacks.callbacks.History at 0x1ecbf400>"
      ]
     },
     "execution_count": 36,
     "metadata": {},
     "output_type": "execute_result"
    }
   ],
   "source": [
    "# case 2 : reduce the number of hidden units \n",
    "\n",
    "model = models.Sequential()\n",
    "model.add(layers.Dense(64, activation='relu', input_shape=(10000,)))\n",
    "model.add(layers.Dense(4, activation='relu'))\n",
    "model.add(layers.Dense(46, activation='softmax'))\n",
    "model.compile(optimizer='rmsprop',\n",
    "loss='categorical_crossentropy',\n",
    "metrics=['accuracy'])\n",
    "model.fit(partial_x_train,\n",
    "partial_y_train,\n",
    "epochs=20,\n",
    "batch_size=128,\n",
    "validation_data=(x_val, y_val))"
   ]
  },
  {
   "cell_type": "code",
   "execution_count": 38,
   "metadata": {},
   "outputs": [],
   "source": [
    "#  val_accuracy: 0.6680 :: so accuracy has reduced to 66 % from 79 % when\n",
    "# number of hidden units are decreased"
   ]
  },
  {
   "cell_type": "code",
   "execution_count": null,
   "metadata": {},
   "outputs": [],
   "source": []
  }
 ],
 "metadata": {
  "kernelspec": {
   "display_name": "Python 3",
   "language": "python",
   "name": "python3"
  },
  "language_info": {
   "codemirror_mode": {
    "name": "ipython",
    "version": 3
   },
   "file_extension": ".py",
   "mimetype": "text/x-python",
   "name": "python",
   "nbconvert_exporter": "python",
   "pygments_lexer": "ipython3",
   "version": "3.8.3"
  }
 },
 "nbformat": 4,
 "nbformat_minor": 4
}
